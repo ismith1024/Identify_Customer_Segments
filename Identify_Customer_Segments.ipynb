{
 "cells": [
  {
   "cell_type": "markdown",
   "metadata": {},
   "source": [
    "# Project: Identify Customer Segments\n",
    "\n",
    "In this project, you will apply unsupervised learning techniques to identify segments of the population that form the core customer base for a mail-order sales company in Germany. These segments can then be used to direct marketing campaigns towards audiences that will have the highest expected rate of returns. The data that you will use has been provided by our partners at Bertelsmann Arvato Analytics, and represents a real-life data science task.\n",
    "\n",
    "This notebook will help you complete this task by providing a framework within which you will perform your analysis steps. In each step of the project, you will see some text describing the subtask that you will perform, followed by one or more code cells for you to complete your work. **Feel free to add additional code and markdown cells as you go along so that you can explore everything in precise chunks.** The code cells provided in the base template will outline only the major tasks, and will usually not be enough to cover all of the minor tasks that comprise it.\n",
    "\n",
    "It should be noted that while there will be precise guidelines on how you should handle certain tasks in the project, there will also be places where an exact specification is not provided. **There will be times in the project where you will need to make and justify your own decisions on how to treat the data.** These are places where there may not be only one way to handle the data. In real-life tasks, there may be many valid ways to approach an analysis task. One of the most important things you can do is clearly document your approach so that other scientists can understand the decisions you've made.\n",
    "\n",
    "At the end of most sections, there will be a Markdown cell labeled **Discussion**. In these cells, you will report your findings for the completed section, as well as document the decisions that you made in your approach to each subtask. **Your project will be evaluated not just on the code used to complete the tasks outlined, but also your communication about your observations and conclusions at each stage.**"
   ]
  },
  {
   "cell_type": "code",
   "execution_count": 1,
   "metadata": {},
   "outputs": [],
   "source": [
    "# import libraries here; add more as necessary\n",
    "import numpy as np\n",
    "import pandas as pd\n",
    "import matplotlib.pyplot as plt\n",
    "import seaborn as sns\n",
    "import matplotlib\n",
    "import math\n",
    "import sklearn.preprocessing as pp\n",
    "from sklearn.decomposition import PCA\n",
    "\n",
    "\n",
    "from mpl_toolkits.mplot3d import Axes3D\n",
    "from sklearn.cluster import KMeans\n",
    "from sklearn.datasets import make_blobs\n",
    "from IPython import display\n",
    "\n",
    "# magic word for producing visualizations in notebook\n",
    "%matplotlib inline\n",
    "\n",
    "### Run this to create final clustering model\n"
   ]
  },
  {
   "cell_type": "markdown",
   "metadata": {},
   "source": [
    "### Step 0: Load the Data\n",
    "\n",
    "There are four files associated with this project (not including this one):\n",
    "\n",
    "- `Udacity_AZDIAS_Subset.csv`: Demographics data for the general population of Germany; 891211 persons (rows) x 85 features (columns).\n",
    "- `Udacity_CUSTOMERS_Subset.csv`: Demographics data for customers of a mail-order company; 191652 persons (rows) x 85 features (columns).\n",
    "- `Data_Dictionary.md`: Detailed information file about the features in the provided datasets.\n",
    "- `AZDIAS_Feature_Summary.csv`: Summary of feature attributes for demographics data; 85 features (rows) x 4 columns\n",
    "\n",
    "Each row of the demographics files represents a single person, but also includes information outside of individuals, including information about their household, building, and neighborhood. You will use this information to cluster the general population into groups with similar demographic properties. Then, you will see how the people in the customers dataset fit into those created clusters. The hope here is that certain clusters are over-represented in the customers data, as compared to the general population; those over-represented clusters will be assumed to be part of the core userbase. This information can then be used for further applications, such as targeting for a marketing campaign.\n",
    "\n",
    "To start off with, load in the demographics data for the general population into a pandas DataFrame, and do the same for the feature attributes summary. Note for all of the `.csv` data files in this project: they're semicolon (`;`) delimited, so you'll need an additional argument in your [`read_csv()`](https://pandas.pydata.org/pandas-docs/stable/generated/pandas.read_csv.html) call to read in the data properly. Also, considering the size of the main dataset, it may take some time for it to load completely.\n",
    "\n",
    "Once the dataset is loaded, it's recommended that you take a little bit of time just browsing the general structure of the dataset and feature summary file. You'll be getting deep into the innards of the cleaning in the first major step of the project, so gaining some general familiarity can help you get your bearings."
   ]
  },
  {
   "cell_type": "code",
   "execution_count": 2,
   "metadata": {},
   "outputs": [],
   "source": [
    "# Load in the general demographics data.\n",
    "azdias = pd.read_csv('Udacity_AZDIAS_Subset.csv', sep=';')\n",
    "\n",
    "# Load in the feature summary file.\n",
    "feat_info = pd.read_csv('AZDIAS_Feature_Summary.csv', sep=';')\n",
    "\n",
    "### Run this to create final clustering model"
   ]
  },
  {
   "cell_type": "markdown",
   "metadata": {},
   "source": [
    "> **Tip**: Add additional cells to keep everything in reasonably-sized chunks! Keyboard shortcut `esc --> a` (press escape to enter command mode, then press the 'A' key) adds a new cell before the active cell, and `esc --> b` adds a new cell after the active cell. If you need to convert an active cell to a markdown cell, use `esc --> m` and to convert to a code cell, use `esc --> y`. \n",
    "\n",
    "## Step 1: Preprocessing\n",
    "\n",
    "### Step 1.1: Assess Missing Data\n",
    "\n",
    "The feature summary file contains a summary of properties for each demographics data column. You will use this file to help you make cleaning decisions during this stage of the project. First of all, you should assess the demographics data in terms of missing data. Pay attention to the following points as you perform your analysis, and take notes on what you observe. Make sure that you fill in the **Discussion** cell with your findings and decisions at the end of each step that has one!\n",
    "\n"
   ]
  },
  {
   "cell_type": "markdown",
   "metadata": {},
   "source": [
    "## 1.1.2: Assessing NaN Values\n",
    "\n",
    "I am interested to know the characteristics of the empty data -- the NaN values, before applying the missing value codes.\n",
    "Specifically, to understand if the NaNs are randomly distributed, or if there are columns that are consistently empty.\n",
    "\n",
    "**I will be performing 1.1.2 ahead of 1.1.1.**\n"
   ]
  },
  {
   "cell_type": "markdown",
   "metadata": {},
   "source": [
    "#### Step 1.1.2: Assess Missing Data in Each Column\n",
    "\n",
    "How much missing data is present in each column? There are a few columns that are outliers in terms of the proportion of values that are missing. You will want to use matplotlib's [`hist()`](https://matplotlib.org/api/_as_gen/matplotlib.pyplot.hist.html) function to visualize the distribution of missing value counts to find these columns. Identify and document these columns. While some of these columns might have justifications for keeping or re-encoding the data, for this project you should just remove them from the dataframe. (Feel free to make remarks about these outlier columns in the discussion, however!)\n",
    "\n",
    "For the remaining features, are there any patterns in which columns have, or share, missing data?"
   ]
  },
  {
   "cell_type": "code",
   "execution_count": 55,
   "metadata": {},
   "outputs": [
    {
     "data": {
      "text/plain": [
       "(array([ 42.,   1.,   0.,   0.,   0.,   0.,   7.,   6.,  10.,   9.,   2.,\n",
       "          7.,   0.,   0.,   0.,   0.,   0.,   0.,   0.,   0.,   0.,   0.,\n",
       "          0.,   0.,   0.,   0.,   0.,   0.,   0.,   0.,   0.,   0.,   0.,\n",
       "          0.,   0.,   0.,   0.,   0.,   0.,   0.,   0.,   0.,   0.,   0.,\n",
       "          0.,   0.,   0.,   0.,   0.,   1.]),\n",
       " array([      0.  ,   11692.24,   23384.48,   35076.72,   46768.96,\n",
       "          58461.2 ,   70153.44,   81845.68,   93537.92,  105230.16,\n",
       "         116922.4 ,  128614.64,  140306.88,  151999.12,  163691.36,\n",
       "         175383.6 ,  187075.84,  198768.08,  210460.32,  222152.56,\n",
       "         233844.8 ,  245537.04,  257229.28,  268921.52,  280613.76,\n",
       "         292306.  ,  303998.24,  315690.48,  327382.72,  339074.96,\n",
       "         350767.2 ,  362459.44,  374151.68,  385843.92,  397536.16,\n",
       "         409228.4 ,  420920.64,  432612.88,  444305.12,  455997.36,\n",
       "         467689.6 ,  479381.84,  491074.08,  502766.32,  514458.56,\n",
       "         526150.8 ,  537843.04,  549535.28,  561227.52,  572919.76,  584612.  ]),\n",
       " <a list of 50 Patch objects>)"
      ]
     },
     "execution_count": 55,
     "metadata": {},
     "output_type": "execute_result"
    },
    {
     "data": {
      "image/png": "[encoded data removed]",
      "text/plain": [
       "<matplotlib.figure.Figure at 0x7f4bb2e0fc88>"
      ]
     },
     "metadata": {
      "needs_background": "light"
     },
     "output_type": "display_data"
    }
   ],
   "source": [
    "# Perform an assessment of how much missing data there is in each column of the\n",
    "# dataset.\n",
    "\n",
    "nullCounts = azdias.isnull().sum(axis = 0)\n",
    "\n",
    "plt.title('Plot 1: NaN counts')\n",
    "plt.hist(nullCounts, bins = 50)\n"
   ]
  },
  {
   "cell_type": "code",
   "execution_count": 4,
   "metadata": {},
   "outputs": [
    {
     "name": "stdout",
     "output_type": "stream",
     "text": [
      " ---- 0 null values\n",
      "[32] columns found\n",
      " ---- 4854 null values\n",
      "[10] columns found\n",
      " ---- 73499 null values\n",
      "[6] columns found\n",
      " ---- 18348 null values\n",
      "[1] columns found\n",
      " ---- 584612 null values\n",
      "[1] columns found\n",
      " ---- 107602 null values\n",
      "[1] columns found\n",
      " ---- 93148 null values\n",
      "[5] columns found\n",
      " ---- 97008 null values\n",
      "[1] columns found\n",
      " ---- 73969 null values\n",
      "[1] columns found\n",
      " ---- 98979 null values\n",
      "[3] columns found\n",
      " ---- 133324 null values\n",
      "[7] columns found\n",
      " ---- 93740 null values\n",
      "[3] columns found\n",
      " ---- 93155 null values\n",
      "[1] columns found\n",
      " ---- 121196 null values\n",
      "[2] columns found\n",
      " ---- 105800 null values\n",
      "[1] columns found\n",
      " ---- 116515 null values\n",
      "[7] columns found\n",
      " ---- 97216 null values\n",
      "[3] columns found\n"
     ]
    }
   ],
   "source": [
    "# Investigate patterns in the amount of missing data in each column.\n",
    "\n",
    "nullCols = {}\n",
    "\n",
    "for col in azdias:\n",
    "    number_nulls = azdias[col].isnull().sum()\n",
    "    if number_nulls not in nullCols:\n",
    "        nullCols[number_nulls] = []\n",
    "    nullCols[number_nulls].append(col)\n",
    "    \n",
    "for key in nullCols:\n",
    "    column_count = 0\n",
    "    print(\" ---- \" + str(key) + \" null values\")\n",
    "    for i in nullCols[key]:\n",
    "        #print(\"   \" + i)\n",
    "        column_count = column_count + 1\n",
    "    print ('[' + str(column_count) + ']' + ' columns found')"
   ]
  },
  {
   "cell_type": "markdown",
   "metadata": {},
   "source": [
    "Inspecting the data, columns have one of the following counts of NaN:\n",
    "[0, 4854, 73499, 18348, 584612, 107602, 93148, 97008, 73969, 98979, 133324, 93740, 93155, 121196, 105800, 116515, 97216]\n",
    "\n",
    "It would be useful to know how these are correlated.  I will use set operations to see how/if their membership varies.    "
   ]
  },
  {
   "cell_type": "markdown",
   "metadata": {},
   "source": [
    "For each set $I$, $J$ where $|I| = |J|$ , examine whether the symmetric set difference $I \\triangle J = \\emptyset$  "
   ]
  },
  {
   "cell_type": "code",
   "execution_count": 7,
   "metadata": {},
   "outputs": [
    {
     "name": "stdout",
     "output_type": "stream",
     "text": [
      "Creating NaN row sets\n",
      "Checking rows with equal number of NaNs\n",
      "The columns with 4854 nulls were all the same\n",
      "The columns with 73499 nulls were all the same\n",
      "The columns with 18348 nulls were all the same\n",
      "The columns with 584612 nulls were all the same\n",
      "The columns with 107602 nulls were all the same\n",
      "The columns with 93148 nulls were all the same\n",
      "The columns with 97008 nulls were all the same\n",
      "The columns with 73969 nulls were all the same\n",
      "The columns with 98979 nulls were all the same\n",
      "The columns with 133324 nulls were all the same\n",
      "The columns with 93740 nulls were all the same\n",
      "The columns with 93155 nulls were all the same\n",
      "The columns with 121196 nulls were all the same\n",
      "The columns with 105800 nulls were all the same\n",
      "The columns with 116515 nulls were all the same\n",
      "The columns with 97216 nulls were all the same\n"
     ]
    }
   ],
   "source": [
    "nullRows = {}\n",
    "\n",
    "print(\"Creating NaN row sets\")\n",
    "for col in azdias:\n",
    "    nullRows[col] = set()\n",
    "    index = 0\n",
    "    for i in azdias[col]:\n",
    "        if pd.isnull(i):\n",
    "            nullRows[col].add(index)\n",
    "        index = index + 1\n",
    "\n",
    "print(\"Checking rows with equal number of NaNs\")\n",
    "for n in nullCols:\n",
    "    if n != 0:\n",
    "        allSame = True\n",
    "        for i in nullCols[n]:\n",
    "            for j in nullCols[n]:\n",
    "                if i != j:\n",
    "                    if len(nullRows[i].symmetric_difference(nullRows[j])) != 0:\n",
    "                        allSame = False\n",
    "                        print(i + \"was not the same as\" + j)\n",
    "        if allSame:\n",
    "            print(\"The columns with \" + str(n) + \" nulls were all the same\")\n",
    "            \n",
    "\n"
   ]
  },
  {
   "cell_type": "markdown",
   "metadata": {},
   "source": [
    "## 1.1.2 Discussion -- Assess NaN values in each column\n",
    "\n",
    "Inspection of the histogram in plot 1 shows that counts of NaN data reappear quite frequently.  Of the 85 columns, there are 17 distinct counts of NaNs.  This is extremely unexpected if the NaNs were randomly distributed (where we would expect a binomial distribution), and strongly suggests the NaNs are at least partly correlated.\n",
    "\n",
    "I performed more in-depth analysis as follows:\n",
    " - For each column with nonzero NaN values, create a set containing the row indices of each NaN value\n",
    " - For each I,J where NaN count of I = NaN count of J, compare the sets.\n",
    " - If the sets are not equal, print I and J\n",
    " - Otherwise, indicate all sets are equal\n",
    " \n",
    "This analysis showed that for each column pair with the same NaN count, the NaNs all appeared in the same rows."
   ]
  },
  {
   "cell_type": "markdown",
   "metadata": {},
   "source": [
    "## Step 1.1.1: (Re)Assess NaNs - now accounting for Missing Value Codes\n",
    "The fourth column of the feature attributes summary (loaded in above as `feat_info`) documents the codes from the data dictionary that indicate missing or unknown data. While the file encodes this as a list (e.g. `[-1,0]`), this will get read in as a string object. You'll need to do a little bit of parsing to make use of it to identify and clean the data. Convert data that matches a 'missing' or 'unknown' value code into a numpy NaN value. You might want to see how much data takes on a 'missing' or 'unknown' code, and how much data is naturally missing, as a point of interest.\n",
    "\n",
    "**As one more reminder, you are encouraged to add additional cells to break up your analysis into manageable chunks.**"
   ]
  },
  {
   "cell_type": "code",
   "execution_count": 19,
   "metadata": {},
   "outputs": [
    {
     "data": {
      "text/html": [
       "<div>\n",
       "<style>\n",
       "    .dataframe thead tr:only-child th {\n",
       "        text-align: right;\n",
       "    }\n",
       "\n",
       "    .dataframe thead th {\n",
       "        text-align: left;\n",
       "    }\n",
       "\n",
       "    .dataframe tbody tr th {\n",
       "        vertical-align: top;\n",
       "    }\n",
       "</style>\n",
       "<table border=\"1\" class=\"dataframe\">\n",
       "  <thead>\n",
       "    <tr style=\"text-align: right;\">\n",
       "      <th></th>\n",
       "      <th>attribute</th>\n",
       "      <th>information_level</th>\n",
       "      <th>type</th>\n",
       "      <th>missing_or_unknown</th>\n",
       "    </tr>\n",
       "  </thead>\n",
       "  <tbody>\n",
       "    <tr>\n",
       "      <th>0</th>\n",
       "      <td>AGER_TYP</td>\n",
       "      <td>person</td>\n",
       "      <td>categorical</td>\n",
       "      <td>[-1,0]</td>\n",
       "    </tr>\n",
       "    <tr>\n",
       "      <th>1</th>\n",
       "      <td>ALTERSKATEGORIE_GROB</td>\n",
       "      <td>person</td>\n",
       "      <td>ordinal</td>\n",
       "      <td>[-1,0,9]</td>\n",
       "    </tr>\n",
       "    <tr>\n",
       "      <th>2</th>\n",
       "      <td>ANREDE_KZ</td>\n",
       "      <td>person</td>\n",
       "      <td>categorical</td>\n",
       "      <td>[-1,0]</td>\n",
       "    </tr>\n",
       "    <tr>\n",
       "      <th>3</th>\n",
       "      <td>CJT_GESAMTTYP</td>\n",
       "      <td>person</td>\n",
       "      <td>categorical</td>\n",
       "      <td>[0]</td>\n",
       "    </tr>\n",
       "    <tr>\n",
       "      <th>4</th>\n",
       "      <td>FINANZ_MINIMALIST</td>\n",
       "      <td>person</td>\n",
       "      <td>ordinal</td>\n",
       "      <td>[-1]</td>\n",
       "    </tr>\n",
       "    <tr>\n",
       "      <th>5</th>\n",
       "      <td>FINANZ_SPARER</td>\n",
       "      <td>person</td>\n",
       "      <td>ordinal</td>\n",
       "      <td>[-1]</td>\n",
       "    </tr>\n",
       "    <tr>\n",
       "      <th>6</th>\n",
       "      <td>FINANZ_VORSORGER</td>\n",
       "      <td>person</td>\n",
       "      <td>ordinal</td>\n",
       "      <td>[-1]</td>\n",
       "    </tr>\n",
       "    <tr>\n",
       "      <th>7</th>\n",
       "      <td>FINANZ_ANLEGER</td>\n",
       "      <td>person</td>\n",
       "      <td>ordinal</td>\n",
       "      <td>[-1]</td>\n",
       "    </tr>\n",
       "    <tr>\n",
       "      <th>8</th>\n",
       "      <td>FINANZ_UNAUFFAELLIGER</td>\n",
       "      <td>person</td>\n",
       "      <td>ordinal</td>\n",
       "      <td>[-1]</td>\n",
       "    </tr>\n",
       "    <tr>\n",
       "      <th>9</th>\n",
       "      <td>FINANZ_HAUSBAUER</td>\n",
       "      <td>person</td>\n",
       "      <td>ordinal</td>\n",
       "      <td>[-1]</td>\n",
       "    </tr>\n",
       "    <tr>\n",
       "      <th>10</th>\n",
       "      <td>FINANZTYP</td>\n",
       "      <td>person</td>\n",
       "      <td>categorical</td>\n",
       "      <td>[-1]</td>\n",
       "    </tr>\n",
       "    <tr>\n",
       "      <th>11</th>\n",
       "      <td>GEBURTSJAHR</td>\n",
       "      <td>person</td>\n",
       "      <td>numeric</td>\n",
       "      <td>[0]</td>\n",
       "    </tr>\n",
       "    <tr>\n",
       "      <th>12</th>\n",
       "      <td>GFK_URLAUBERTYP</td>\n",
       "      <td>person</td>\n",
       "      <td>categorical</td>\n",
       "      <td>[]</td>\n",
       "    </tr>\n",
       "    <tr>\n",
       "      <th>13</th>\n",
       "      <td>GREEN_AVANTGARDE</td>\n",
       "      <td>person</td>\n",
       "      <td>categorical</td>\n",
       "      <td>[]</td>\n",
       "    </tr>\n",
       "    <tr>\n",
       "      <th>14</th>\n",
       "      <td>HEALTH_TYP</td>\n",
       "      <td>person</td>\n",
       "      <td>ordinal</td>\n",
       "      <td>[-1,0]</td>\n",
       "    </tr>\n",
       "    <tr>\n",
       "      <th>15</th>\n",
       "      <td>LP_LEBENSPHASE_FEIN</td>\n",
       "      <td>person</td>\n",
       "      <td>mixed</td>\n",
       "      <td>[0]</td>\n",
       "    </tr>\n",
       "    <tr>\n",
       "      <th>16</th>\n",
       "      <td>LP_LEBENSPHASE_GROB</td>\n",
       "      <td>person</td>\n",
       "      <td>mixed</td>\n",
       "      <td>[0]</td>\n",
       "    </tr>\n",
       "    <tr>\n",
       "      <th>17</th>\n",
       "      <td>LP_FAMILIE_FEIN</td>\n",
       "      <td>person</td>\n",
       "      <td>categorical</td>\n",
       "      <td>[0]</td>\n",
       "    </tr>\n",
       "    <tr>\n",
       "      <th>18</th>\n",
       "      <td>LP_FAMILIE_GROB</td>\n",
       "      <td>person</td>\n",
       "      <td>categorical</td>\n",
       "      <td>[0]</td>\n",
       "    </tr>\n",
       "    <tr>\n",
       "      <th>19</th>\n",
       "      <td>LP_STATUS_FEIN</td>\n",
       "      <td>person</td>\n",
       "      <td>categorical</td>\n",
       "      <td>[0]</td>\n",
       "    </tr>\n",
       "    <tr>\n",
       "      <th>20</th>\n",
       "      <td>LP_STATUS_GROB</td>\n",
       "      <td>person</td>\n",
       "      <td>categorical</td>\n",
       "      <td>[0]</td>\n",
       "    </tr>\n",
       "    <tr>\n",
       "      <th>21</th>\n",
       "      <td>NATIONALITAET_KZ</td>\n",
       "      <td>person</td>\n",
       "      <td>categorical</td>\n",
       "      <td>[-1,0]</td>\n",
       "    </tr>\n",
       "    <tr>\n",
       "      <th>22</th>\n",
       "      <td>PRAEGENDE_JUGENDJAHRE</td>\n",
       "      <td>person</td>\n",
       "      <td>mixed</td>\n",
       "      <td>[-1,0]</td>\n",
       "    </tr>\n",
       "    <tr>\n",
       "      <th>23</th>\n",
       "      <td>RETOURTYP_BK_S</td>\n",
       "      <td>person</td>\n",
       "      <td>ordinal</td>\n",
       "      <td>[0]</td>\n",
       "    </tr>\n",
       "    <tr>\n",
       "      <th>24</th>\n",
       "      <td>SEMIO_SOZ</td>\n",
       "      <td>person</td>\n",
       "      <td>ordinal</td>\n",
       "      <td>[-1,9]</td>\n",
       "    </tr>\n",
       "    <tr>\n",
       "      <th>25</th>\n",
       "      <td>SEMIO_FAM</td>\n",
       "      <td>person</td>\n",
       "      <td>ordinal</td>\n",
       "      <td>[-1,9]</td>\n",
       "    </tr>\n",
       "    <tr>\n",
       "      <th>26</th>\n",
       "      <td>SEMIO_REL</td>\n",
       "      <td>person</td>\n",
       "      <td>ordinal</td>\n",
       "      <td>[-1,9]</td>\n",
       "    </tr>\n",
       "    <tr>\n",
       "      <th>27</th>\n",
       "      <td>SEMIO_MAT</td>\n",
       "      <td>person</td>\n",
       "      <td>ordinal</td>\n",
       "      <td>[-1,9]</td>\n",
       "    </tr>\n",
       "    <tr>\n",
       "      <th>28</th>\n",
       "      <td>SEMIO_VERT</td>\n",
       "      <td>person</td>\n",
       "      <td>ordinal</td>\n",
       "      <td>[-1,9]</td>\n",
       "    </tr>\n",
       "    <tr>\n",
       "      <th>29</th>\n",
       "      <td>SEMIO_LUST</td>\n",
       "      <td>person</td>\n",
       "      <td>ordinal</td>\n",
       "      <td>[-1,9]</td>\n",
       "    </tr>\n",
       "    <tr>\n",
       "      <th>...</th>\n",
       "      <td>...</td>\n",
       "      <td>...</td>\n",
       "      <td>...</td>\n",
       "      <td>...</td>\n",
       "    </tr>\n",
       "    <tr>\n",
       "      <th>55</th>\n",
       "      <td>OST_WEST_KZ</td>\n",
       "      <td>building</td>\n",
       "      <td>categorical</td>\n",
       "      <td>[-1]</td>\n",
       "    </tr>\n",
       "    <tr>\n",
       "      <th>56</th>\n",
       "      <td>WOHNLAGE</td>\n",
       "      <td>building</td>\n",
       "      <td>mixed</td>\n",
       "      <td>[-1]</td>\n",
       "    </tr>\n",
       "    <tr>\n",
       "      <th>57</th>\n",
       "      <td>CAMEO_DEUG_2015</td>\n",
       "      <td>microcell_rr4</td>\n",
       "      <td>categorical</td>\n",
       "      <td>[-1,X]</td>\n",
       "    </tr>\n",
       "    <tr>\n",
       "      <th>58</th>\n",
       "      <td>CAMEO_DEU_2015</td>\n",
       "      <td>microcell_rr4</td>\n",
       "      <td>categorical</td>\n",
       "      <td>[XX]</td>\n",
       "    </tr>\n",
       "    <tr>\n",
       "      <th>59</th>\n",
       "      <td>CAMEO_INTL_2015</td>\n",
       "      <td>microcell_rr4</td>\n",
       "      <td>mixed</td>\n",
       "      <td>[-1,XX]</td>\n",
       "    </tr>\n",
       "    <tr>\n",
       "      <th>60</th>\n",
       "      <td>KBA05_ANTG1</td>\n",
       "      <td>microcell_rr3</td>\n",
       "      <td>ordinal</td>\n",
       "      <td>[-1]</td>\n",
       "    </tr>\n",
       "    <tr>\n",
       "      <th>61</th>\n",
       "      <td>KBA05_ANTG2</td>\n",
       "      <td>microcell_rr3</td>\n",
       "      <td>ordinal</td>\n",
       "      <td>[-1]</td>\n",
       "    </tr>\n",
       "    <tr>\n",
       "      <th>62</th>\n",
       "      <td>KBA05_ANTG3</td>\n",
       "      <td>microcell_rr3</td>\n",
       "      <td>ordinal</td>\n",
       "      <td>[-1]</td>\n",
       "    </tr>\n",
       "    <tr>\n",
       "      <th>63</th>\n",
       "      <td>KBA05_ANTG4</td>\n",
       "      <td>microcell_rr3</td>\n",
       "      <td>ordinal</td>\n",
       "      <td>[-1]</td>\n",
       "    </tr>\n",
       "    <tr>\n",
       "      <th>64</th>\n",
       "      <td>KBA05_BAUMAX</td>\n",
       "      <td>microcell_rr3</td>\n",
       "      <td>mixed</td>\n",
       "      <td>[-1,0]</td>\n",
       "    </tr>\n",
       "    <tr>\n",
       "      <th>65</th>\n",
       "      <td>KBA05_GBZ</td>\n",
       "      <td>microcell_rr3</td>\n",
       "      <td>ordinal</td>\n",
       "      <td>[-1,0]</td>\n",
       "    </tr>\n",
       "    <tr>\n",
       "      <th>66</th>\n",
       "      <td>BALLRAUM</td>\n",
       "      <td>postcode</td>\n",
       "      <td>ordinal</td>\n",
       "      <td>[-1]</td>\n",
       "    </tr>\n",
       "    <tr>\n",
       "      <th>67</th>\n",
       "      <td>EWDICHTE</td>\n",
       "      <td>postcode</td>\n",
       "      <td>ordinal</td>\n",
       "      <td>[-1]</td>\n",
       "    </tr>\n",
       "    <tr>\n",
       "      <th>68</th>\n",
       "      <td>INNENSTADT</td>\n",
       "      <td>postcode</td>\n",
       "      <td>ordinal</td>\n",
       "      <td>[-1]</td>\n",
       "    </tr>\n",
       "    <tr>\n",
       "      <th>69</th>\n",
       "      <td>GEBAEUDETYP_RASTER</td>\n",
       "      <td>region_rr1</td>\n",
       "      <td>ordinal</td>\n",
       "      <td>[]</td>\n",
       "    </tr>\n",
       "    <tr>\n",
       "      <th>70</th>\n",
       "      <td>KKK</td>\n",
       "      <td>region_rr1</td>\n",
       "      <td>ordinal</td>\n",
       "      <td>[-1,0]</td>\n",
       "    </tr>\n",
       "    <tr>\n",
       "      <th>71</th>\n",
       "      <td>MOBI_REGIO</td>\n",
       "      <td>region_rr1</td>\n",
       "      <td>ordinal</td>\n",
       "      <td>[]</td>\n",
       "    </tr>\n",
       "    <tr>\n",
       "      <th>72</th>\n",
       "      <td>ONLINE_AFFINITAET</td>\n",
       "      <td>region_rr1</td>\n",
       "      <td>ordinal</td>\n",
       "      <td>[]</td>\n",
       "    </tr>\n",
       "    <tr>\n",
       "      <th>73</th>\n",
       "      <td>REGIOTYP</td>\n",
       "      <td>region_rr1</td>\n",
       "      <td>ordinal</td>\n",
       "      <td>[-1,0]</td>\n",
       "    </tr>\n",
       "    <tr>\n",
       "      <th>74</th>\n",
       "      <td>KBA13_ANZAHL_PKW</td>\n",
       "      <td>macrocell_plz8</td>\n",
       "      <td>numeric</td>\n",
       "      <td>[]</td>\n",
       "    </tr>\n",
       "    <tr>\n",
       "      <th>75</th>\n",
       "      <td>PLZ8_ANTG1</td>\n",
       "      <td>macrocell_plz8</td>\n",
       "      <td>ordinal</td>\n",
       "      <td>[-1]</td>\n",
       "    </tr>\n",
       "    <tr>\n",
       "      <th>76</th>\n",
       "      <td>PLZ8_ANTG2</td>\n",
       "      <td>macrocell_plz8</td>\n",
       "      <td>ordinal</td>\n",
       "      <td>[-1]</td>\n",
       "    </tr>\n",
       "    <tr>\n",
       "      <th>77</th>\n",
       "      <td>PLZ8_ANTG3</td>\n",
       "      <td>macrocell_plz8</td>\n",
       "      <td>ordinal</td>\n",
       "      <td>[-1]</td>\n",
       "    </tr>\n",
       "    <tr>\n",
       "      <th>78</th>\n",
       "      <td>PLZ8_ANTG4</td>\n",
       "      <td>macrocell_plz8</td>\n",
       "      <td>ordinal</td>\n",
       "      <td>[-1]</td>\n",
       "    </tr>\n",
       "    <tr>\n",
       "      <th>79</th>\n",
       "      <td>PLZ8_BAUMAX</td>\n",
       "      <td>macrocell_plz8</td>\n",
       "      <td>mixed</td>\n",
       "      <td>[-1,0]</td>\n",
       "    </tr>\n",
       "    <tr>\n",
       "      <th>80</th>\n",
       "      <td>PLZ8_HHZ</td>\n",
       "      <td>macrocell_plz8</td>\n",
       "      <td>ordinal</td>\n",
       "      <td>[-1]</td>\n",
       "    </tr>\n",
       "    <tr>\n",
       "      <th>81</th>\n",
       "      <td>PLZ8_GBZ</td>\n",
       "      <td>macrocell_plz8</td>\n",
       "      <td>ordinal</td>\n",
       "      <td>[-1]</td>\n",
       "    </tr>\n",
       "    <tr>\n",
       "      <th>82</th>\n",
       "      <td>ARBEIT</td>\n",
       "      <td>community</td>\n",
       "      <td>ordinal</td>\n",
       "      <td>[-1,9]</td>\n",
       "    </tr>\n",
       "    <tr>\n",
       "      <th>83</th>\n",
       "      <td>ORTSGR_KLS9</td>\n",
       "      <td>community</td>\n",
       "      <td>ordinal</td>\n",
       "      <td>[-1,0]</td>\n",
       "    </tr>\n",
       "    <tr>\n",
       "      <th>84</th>\n",
       "      <td>RELAT_AB</td>\n",
       "      <td>community</td>\n",
       "      <td>ordinal</td>\n",
       "      <td>[-1,9]</td>\n",
       "    </tr>\n",
       "  </tbody>\n",
       "</table>\n",
       "<p>85 rows × 4 columns</p>\n",
       "</div>"
      ],
      "text/plain": [
       "                attribute information_level         type missing_or_unknown\n",
       "0                AGER_TYP            person  categorical             [-1,0]\n",
       "1    ALTERSKATEGORIE_GROB            person      ordinal           [-1,0,9]\n",
       "2               ANREDE_KZ            person  categorical             [-1,0]\n",
       "3           CJT_GESAMTTYP            person  categorical                [0]\n",
       "4       FINANZ_MINIMALIST            person      ordinal               [-1]\n",
       "5           FINANZ_SPARER            person      ordinal               [-1]\n",
       "6        FINANZ_VORSORGER            person      ordinal               [-1]\n",
       "7          FINANZ_ANLEGER            person      ordinal               [-1]\n",
       "8   FINANZ_UNAUFFAELLIGER            person      ordinal               [-1]\n",
       "9        FINANZ_HAUSBAUER            person      ordinal               [-1]\n",
       "10              FINANZTYP            person  categorical               [-1]\n",
       "11            GEBURTSJAHR            person      numeric                [0]\n",
       "12        GFK_URLAUBERTYP            person  categorical                 []\n",
       "13       GREEN_AVANTGARDE            person  categorical                 []\n",
       "14             HEALTH_TYP            person      ordinal             [-1,0]\n",
       "15    LP_LEBENSPHASE_FEIN            person        mixed                [0]\n",
       "16    LP_LEBENSPHASE_GROB            person        mixed                [0]\n",
       "17        LP_FAMILIE_FEIN            person  categorical                [0]\n",
       "18        LP_FAMILIE_GROB            person  categorical                [0]\n",
       "19         LP_STATUS_FEIN            person  categorical                [0]\n",
       "20         LP_STATUS_GROB            person  categorical                [0]\n",
       "21       NATIONALITAET_KZ            person  categorical             [-1,0]\n",
       "22  PRAEGENDE_JUGENDJAHRE            person        mixed             [-1,0]\n",
       "23         RETOURTYP_BK_S            person      ordinal                [0]\n",
       "24              SEMIO_SOZ            person      ordinal             [-1,9]\n",
       "25              SEMIO_FAM            person      ordinal             [-1,9]\n",
       "26              SEMIO_REL            person      ordinal             [-1,9]\n",
       "27              SEMIO_MAT            person      ordinal             [-1,9]\n",
       "28             SEMIO_VERT            person      ordinal             [-1,9]\n",
       "29             SEMIO_LUST            person      ordinal             [-1,9]\n",
       "..                    ...               ...          ...                ...\n",
       "55            OST_WEST_KZ          building  categorical               [-1]\n",
       "56               WOHNLAGE          building        mixed               [-1]\n",
       "57        CAMEO_DEUG_2015     microcell_rr4  categorical             [-1,X]\n",
       "58         CAMEO_DEU_2015     microcell_rr4  categorical               [XX]\n",
       "59        CAMEO_INTL_2015     microcell_rr4        mixed            [-1,XX]\n",
       "60            KBA05_ANTG1     microcell_rr3      ordinal               [-1]\n",
       "61            KBA05_ANTG2     microcell_rr3      ordinal               [-1]\n",
       "62            KBA05_ANTG3     microcell_rr3      ordinal               [-1]\n",
       "63            KBA05_ANTG4     microcell_rr3      ordinal               [-1]\n",
       "64           KBA05_BAUMAX     microcell_rr3        mixed             [-1,0]\n",
       "65              KBA05_GBZ     microcell_rr3      ordinal             [-1,0]\n",
       "66               BALLRAUM          postcode      ordinal               [-1]\n",
       "67               EWDICHTE          postcode      ordinal               [-1]\n",
       "68             INNENSTADT          postcode      ordinal               [-1]\n",
       "69     GEBAEUDETYP_RASTER        region_rr1      ordinal                 []\n",
       "70                    KKK        region_rr1      ordinal             [-1,0]\n",
       "71             MOBI_REGIO        region_rr1      ordinal                 []\n",
       "72      ONLINE_AFFINITAET        region_rr1      ordinal                 []\n",
       "73               REGIOTYP        region_rr1      ordinal             [-1,0]\n",
       "74       KBA13_ANZAHL_PKW    macrocell_plz8      numeric                 []\n",
       "75             PLZ8_ANTG1    macrocell_plz8      ordinal               [-1]\n",
       "76             PLZ8_ANTG2    macrocell_plz8      ordinal               [-1]\n",
       "77             PLZ8_ANTG3    macrocell_plz8      ordinal               [-1]\n",
       "78             PLZ8_ANTG4    macrocell_plz8      ordinal               [-1]\n",
       "79            PLZ8_BAUMAX    macrocell_plz8        mixed             [-1,0]\n",
       "80               PLZ8_HHZ    macrocell_plz8      ordinal               [-1]\n",
       "81               PLZ8_GBZ    macrocell_plz8      ordinal               [-1]\n",
       "82                 ARBEIT         community      ordinal             [-1,9]\n",
       "83            ORTSGR_KLS9         community      ordinal             [-1,0]\n",
       "84               RELAT_AB         community      ordinal             [-1,9]\n",
       "\n",
       "[85 rows x 4 columns]"
      ]
     },
     "execution_count": 19,
     "metadata": {},
     "output_type": "execute_result"
    }
   ],
   "source": [
    "feat_info"
   ]
  },
  {
   "cell_type": "code",
   "execution_count": 3,
   "metadata": {},
   "outputs": [
    {
     "name": "stdout",
     "output_type": "stream",
     "text": [
      "AGER_TYP : -1,0\n",
      "ALTERSKATEGORIE_GROB : -1,0,9\n",
      "ANREDE_KZ : -1,0\n",
      "CJT_GESAMTTYP : 0\n",
      "FINANZ_MINIMALIST : -1\n",
      "FINANZ_SPARER : -1\n",
      "FINANZ_VORSORGER : -1\n",
      "FINANZ_ANLEGER : -1\n",
      "FINANZ_UNAUFFAELLIGER : -1\n",
      "FINANZ_HAUSBAUER : -1\n",
      "FINANZTYP : -1\n",
      "GEBURTSJAHR : 0\n",
      "HEALTH_TYP : -1,0\n",
      "LP_LEBENSPHASE_FEIN : 0\n",
      "LP_LEBENSPHASE_GROB : 0\n",
      "LP_FAMILIE_FEIN : 0\n",
      "LP_FAMILIE_GROB : 0\n",
      "LP_STATUS_FEIN : 0\n",
      "LP_STATUS_GROB : 0\n",
      "NATIONALITAET_KZ : -1,0\n",
      "PRAEGENDE_JUGENDJAHRE : -1,0\n",
      "RETOURTYP_BK_S : 0\n",
      "SEMIO_SOZ : -1,9\n",
      "SEMIO_FAM : -1,9\n",
      "SEMIO_REL : -1,9\n",
      "SEMIO_MAT : -1,9\n",
      "SEMIO_VERT : -1,9\n",
      "SEMIO_LUST : -1,9\n",
      "SEMIO_ERL : -1,9\n",
      "SEMIO_KULT : -1,9\n",
      "SEMIO_RAT : -1,9\n",
      "SEMIO_KRIT : -1,9\n",
      "SEMIO_DOM : -1,9\n",
      "SEMIO_KAEM : -1,9\n",
      "SEMIO_PFLICHT : -1,9\n",
      "SEMIO_TRADV : -1,9\n",
      "SHOPPER_TYP : -1\n",
      "SOHO_KZ : -1\n",
      "TITEL_KZ : -1,0\n",
      "VERS_TYP : -1\n",
      "ZABEOTYP : -1,9\n",
      "ALTER_HH : 0\n",
      "HH_EINKOMMEN_SCORE : -1,0\n",
      "KK_KUNDENTYP : -1\n",
      "W_KEIT_KIND_HH : -1,0\n",
      "WOHNDAUER_2008 : -1,0\n",
      "ANZ_HAUSHALTE_AKTIV : 0\n",
      "GEBAEUDETYP : -1,0\n",
      "MIN_GEBAEUDEJAHR : 0\n",
      "OST_WEST_KZ : -1\n",
      "WOHNLAGE : -1\n",
      "CAMEO_DEUG_2015 : -1,X\n",
      "CAMEO_DEU_2015 : XX\n",
      "CAMEO_INTL_2015 : -1,XX\n",
      "KBA05_ANTG1 : -1\n",
      "KBA05_ANTG2 : -1\n",
      "KBA05_ANTG3 : -1\n",
      "KBA05_ANTG4 : -1\n",
      "KBA05_BAUMAX : -1,0\n",
      "KBA05_GBZ : -1,0\n",
      "BALLRAUM : -1\n",
      "EWDICHTE : -1\n",
      "INNENSTADT : -1\n",
      "KKK : -1,0\n",
      "REGIOTYP : -1,0\n",
      "PLZ8_ANTG1 : -1\n",
      "PLZ8_ANTG2 : -1\n",
      "PLZ8_ANTG3 : -1\n",
      "PLZ8_ANTG4 : -1\n",
      "PLZ8_BAUMAX : -1,0\n",
      "PLZ8_HHZ : -1\n",
      "PLZ8_GBZ : -1\n",
      "ARBEIT : -1,9\n",
      "ORTSGR_KLS9 : -1,0\n",
      "RELAT_AB : -1,9\n"
     ]
    }
   ],
   "source": [
    "'''\n",
    "Identify missing or unknown data values and convert them to NaNs.\n",
    "1.  parse a collection of integers, X, or XX out of the string '[x,y,z...]'\n",
    "1.  create mapping of feat_info['attribute'] -> feat_info['missing_or_unknown'] using dictionary\n",
    "2.  apply a function replace(missing[attribute], NaN) to each row\n",
    "'''\n",
    "missing_data_codes = {}\n",
    "'''\n",
    "for curr_row in feat_info.iterrows():\n",
    "    #parse the integers or X or XX\n",
    "    #note that the missing or error values are all -1, 0, 9, X, or XX\n",
    "    #I am just going to search the string for these character patterns, admitting this is a bad implmentation that does not generalize \n",
    "    missing_data_codes[curr_row[1][0]] = []\n",
    "    if '-1' in curr_row[1][3]:\n",
    "        missing_data_codes[curr_row[1][0]].append(-1)\n",
    "    if '0' in curr_row[1][3]:\n",
    "        missing_data_codes[curr_row[1][0]].append(0)\n",
    "    if '9' in curr_row[1][3]:\n",
    "        missing_data_codes[curr_row[1][0]].append(9)\n",
    "    if 'XX' in curr_row[1][3]:\n",
    "        missing_data_codes[curr_row[1][0]].append('XX')\n",
    "    elif 'X' in curr_row[1][3]:\n",
    "        missing_data_codes[curr_row[1][0]].append('X')\n",
    "    \n",
    "    #print(curr_row[1][0] + \" : \" + ','.join(missing_data_codes[curr_row[1][0]]))\n",
    "'''\n",
    "\n",
    "#Reference: this revised code was recommended by reviewer\n",
    "for index, row in feat_info.iterrows():\n",
    "    attrib_name = row['attribute']\n",
    "    data = azdias[attrib_name]\n",
    "\n",
    "    if row['missing_or_unknown'] != '[]':\n",
    "        miss_codes = row['missing_or_unknown'][1:-1].split(',')\n",
    "    else:\n",
    "        miss_codes = []\n",
    "    if miss_codes:\n",
    "        print(attrib_name + \" : \" + ','.join(miss_codes))\n",
    "        for code in miss_codes:\n",
    "            # try-except block to capture 'X' and 'XX' codes\n",
    "            try:\n",
    "                data = data.replace([int(code)], np.nan)\n",
    "            except:\n",
    "                data = data.replace([code], np.nan)\n",
    "\n",
    "    azdias[attrib_name] = data\n",
    "\n",
    "### Run this to create final clustering model\n",
    "    "
   ]
  },
  {
   "cell_type": "code",
   "execution_count": 57,
   "metadata": {},
   "outputs": [
    {
     "data": {
      "text/html": [
       "<div>\n",
       "<style>\n",
       "    .dataframe thead tr:only-child th {\n",
       "        text-align: right;\n",
       "    }\n",
       "\n",
       "    .dataframe thead th {\n",
       "        text-align: left;\n",
       "    }\n",
       "\n",
       "    .dataframe tbody tr th {\n",
       "        vertical-align: top;\n",
       "    }\n",
       "</style>\n",
       "<table border=\"1\" class=\"dataframe\">\n",
       "  <thead>\n",
       "    <tr style=\"text-align: right;\">\n",
       "      <th></th>\n",
       "      <th>AGER_TYP</th>\n",
       "      <th>ALTERSKATEGORIE_GROB</th>\n",
       "      <th>ANREDE_KZ</th>\n",
       "      <th>CJT_GESAMTTYP</th>\n",
       "      <th>FINANZ_MINIMALIST</th>\n",
       "      <th>FINANZ_SPARER</th>\n",
       "      <th>FINANZ_VORSORGER</th>\n",
       "      <th>FINANZ_ANLEGER</th>\n",
       "      <th>FINANZ_UNAUFFAELLIGER</th>\n",
       "      <th>FINANZ_HAUSBAUER</th>\n",
       "      <th>...</th>\n",
       "      <th>PLZ8_ANTG1</th>\n",
       "      <th>PLZ8_ANTG2</th>\n",
       "      <th>PLZ8_ANTG3</th>\n",
       "      <th>PLZ8_ANTG4</th>\n",
       "      <th>PLZ8_BAUMAX</th>\n",
       "      <th>PLZ8_HHZ</th>\n",
       "      <th>PLZ8_GBZ</th>\n",
       "      <th>ARBEIT</th>\n",
       "      <th>ORTSGR_KLS9</th>\n",
       "      <th>RELAT_AB</th>\n",
       "    </tr>\n",
       "  </thead>\n",
       "  <tbody>\n",
       "    <tr>\n",
       "      <th>0</th>\n",
       "      <td>NaN</td>\n",
       "      <td>2.0</td>\n",
       "      <td>1</td>\n",
       "      <td>2.0</td>\n",
       "      <td>3</td>\n",
       "      <td>4</td>\n",
       "      <td>3</td>\n",
       "      <td>5</td>\n",
       "      <td>5</td>\n",
       "      <td>3</td>\n",
       "      <td>...</td>\n",
       "      <td>NaN</td>\n",
       "      <td>NaN</td>\n",
       "      <td>NaN</td>\n",
       "      <td>NaN</td>\n",
       "      <td>NaN</td>\n",
       "      <td>NaN</td>\n",
       "      <td>NaN</td>\n",
       "      <td>NaN</td>\n",
       "      <td>NaN</td>\n",
       "      <td>NaN</td>\n",
       "    </tr>\n",
       "    <tr>\n",
       "      <th>1</th>\n",
       "      <td>NaN</td>\n",
       "      <td>1.0</td>\n",
       "      <td>2</td>\n",
       "      <td>5.0</td>\n",
       "      <td>1</td>\n",
       "      <td>5</td>\n",
       "      <td>2</td>\n",
       "      <td>5</td>\n",
       "      <td>4</td>\n",
       "      <td>5</td>\n",
       "      <td>...</td>\n",
       "      <td>2.0</td>\n",
       "      <td>3.0</td>\n",
       "      <td>2.0</td>\n",
       "      <td>1.0</td>\n",
       "      <td>1.0</td>\n",
       "      <td>5.0</td>\n",
       "      <td>4.0</td>\n",
       "      <td>3.0</td>\n",
       "      <td>5.0</td>\n",
       "      <td>4.0</td>\n",
       "    </tr>\n",
       "    <tr>\n",
       "      <th>2</th>\n",
       "      <td>NaN</td>\n",
       "      <td>3.0</td>\n",
       "      <td>2</td>\n",
       "      <td>3.0</td>\n",
       "      <td>1</td>\n",
       "      <td>4</td>\n",
       "      <td>1</td>\n",
       "      <td>2</td>\n",
       "      <td>3</td>\n",
       "      <td>5</td>\n",
       "      <td>...</td>\n",
       "      <td>3.0</td>\n",
       "      <td>3.0</td>\n",
       "      <td>1.0</td>\n",
       "      <td>0.0</td>\n",
       "      <td>1.0</td>\n",
       "      <td>4.0</td>\n",
       "      <td>4.0</td>\n",
       "      <td>3.0</td>\n",
       "      <td>5.0</td>\n",
       "      <td>2.0</td>\n",
       "    </tr>\n",
       "    <tr>\n",
       "      <th>3</th>\n",
       "      <td>2.0</td>\n",
       "      <td>4.0</td>\n",
       "      <td>2</td>\n",
       "      <td>2.0</td>\n",
       "      <td>4</td>\n",
       "      <td>2</td>\n",
       "      <td>5</td>\n",
       "      <td>2</td>\n",
       "      <td>1</td>\n",
       "      <td>2</td>\n",
       "      <td>...</td>\n",
       "      <td>2.0</td>\n",
       "      <td>2.0</td>\n",
       "      <td>2.0</td>\n",
       "      <td>0.0</td>\n",
       "      <td>1.0</td>\n",
       "      <td>3.0</td>\n",
       "      <td>4.0</td>\n",
       "      <td>2.0</td>\n",
       "      <td>3.0</td>\n",
       "      <td>3.0</td>\n",
       "    </tr>\n",
       "    <tr>\n",
       "      <th>4</th>\n",
       "      <td>NaN</td>\n",
       "      <td>3.0</td>\n",
       "      <td>1</td>\n",
       "      <td>5.0</td>\n",
       "      <td>4</td>\n",
       "      <td>3</td>\n",
       "      <td>4</td>\n",
       "      <td>1</td>\n",
       "      <td>3</td>\n",
       "      <td>2</td>\n",
       "      <td>...</td>\n",
       "      <td>2.0</td>\n",
       "      <td>4.0</td>\n",
       "      <td>2.0</td>\n",
       "      <td>1.0</td>\n",
       "      <td>2.0</td>\n",
       "      <td>3.0</td>\n",
       "      <td>3.0</td>\n",
       "      <td>4.0</td>\n",
       "      <td>6.0</td>\n",
       "      <td>5.0</td>\n",
       "    </tr>\n",
       "  </tbody>\n",
       "</table>\n",
       "<p>5 rows × 85 columns</p>\n",
       "</div>"
      ],
      "text/plain": [
       "   AGER_TYP  ALTERSKATEGORIE_GROB  ANREDE_KZ  CJT_GESAMTTYP  \\\n",
       "0       NaN                   2.0          1            2.0   \n",
       "1       NaN                   1.0          2            5.0   \n",
       "2       NaN                   3.0          2            3.0   \n",
       "3       2.0                   4.0          2            2.0   \n",
       "4       NaN                   3.0          1            5.0   \n",
       "\n",
       "   FINANZ_MINIMALIST  FINANZ_SPARER  FINANZ_VORSORGER  FINANZ_ANLEGER  \\\n",
       "0                  3              4                 3               5   \n",
       "1                  1              5                 2               5   \n",
       "2                  1              4                 1               2   \n",
       "3                  4              2                 5               2   \n",
       "4                  4              3                 4               1   \n",
       "\n",
       "   FINANZ_UNAUFFAELLIGER  FINANZ_HAUSBAUER    ...     PLZ8_ANTG1  PLZ8_ANTG2  \\\n",
       "0                      5                 3    ...            NaN         NaN   \n",
       "1                      4                 5    ...            2.0         3.0   \n",
       "2                      3                 5    ...            3.0         3.0   \n",
       "3                      1                 2    ...            2.0         2.0   \n",
       "4                      3                 2    ...            2.0         4.0   \n",
       "\n",
       "   PLZ8_ANTG3  PLZ8_ANTG4  PLZ8_BAUMAX  PLZ8_HHZ  PLZ8_GBZ  ARBEIT  \\\n",
       "0         NaN         NaN          NaN       NaN       NaN     NaN   \n",
       "1         2.0         1.0          1.0       5.0       4.0     3.0   \n",
       "2         1.0         0.0          1.0       4.0       4.0     3.0   \n",
       "3         2.0         0.0          1.0       3.0       4.0     2.0   \n",
       "4         2.0         1.0          2.0       3.0       3.0     4.0   \n",
       "\n",
       "   ORTSGR_KLS9  RELAT_AB  \n",
       "0          NaN       NaN  \n",
       "1          5.0       4.0  \n",
       "2          5.0       2.0  \n",
       "3          3.0       3.0  \n",
       "4          6.0       5.0  \n",
       "\n",
       "[5 rows x 85 columns]"
      ]
     },
     "execution_count": 57,
     "metadata": {},
     "output_type": "execute_result"
    }
   ],
   "source": [
    "# replace the text with NaN\n",
    "\n",
    "#for col in azdias:\n",
    "#    azdias[col].replace(to_replace=missing_data_codes[col], value=None, inplace=True)\n",
    "\n",
    "#test the results: expect a NaN instead of -1 now\n",
    "azdias.head(5)\n",
    "    \n",
    "### Run this to create final clustering model"
   ]
  },
  {
   "cell_type": "code",
   "execution_count": 6,
   "metadata": {},
   "outputs": [
    {
     "data": {
      "text/plain": [
       "Text(0.5,0,'prop. of missing values')"
      ]
     },
     "execution_count": 6,
     "metadata": {},
     "output_type": "execute_result"
    },
    {
     "data": {
      "image/png": "[encoded data removed]",
      "text/plain": [
       "<matplotlib.figure.Figure at 0x7f4c084b4be0>"
      ]
     },
     "metadata": {
      "needs_background": "light"
     },
     "output_type": "display_data"
    }
   ],
   "source": [
    "# Perform an assessment of how much missing data there is in each column of the\n",
    "# dataset.\n",
    "\n",
    "column_nans = azdias.isnull().mean()\n",
    "plt.title('Plot 2: Re-assessed NaN counts')\n",
    "plt.hist(column_nans, bins = np.arange(0,1+.05,.05))\n",
    "plt.ylabel('# of features')\n",
    "plt.xlabel('prop. of missing values')\n",
    "\n",
    "#plt.hist(nullCounts, bins = 50)"
   ]
  },
  {
   "cell_type": "code",
   "execution_count": 7,
   "metadata": {},
   "outputs": [
    {
     "data": {
      "text/plain": [
       "(array([ 31.,   1.,   0.,   0.,   7.,  19.,  12.,   6.,   3.,   0.,   0.,\n",
       "          0.,   0.,   0.,   0.,   0.,   0.,   1.,   0.,   0.,   0.,   0.,\n",
       "          1.,   0.,   0.,   0.,   1.,   0.,   0.,   0.,   0.,   0.,   1.,\n",
       "          0.,   0.,   0.,   0.,   0.,   1.,   0.,   0.,   0.,   0.,   0.,\n",
       "          0.,   0.,   0.,   0.,   0.,   1.]),\n",
       " array([      0.  ,   17781.22,   35562.44,   53343.66,   71124.88,\n",
       "          88906.1 ,  106687.32,  124468.54,  142249.76,  160030.98,\n",
       "         177812.2 ,  195593.42,  213374.64,  231155.86,  248937.08,\n",
       "         266718.3 ,  284499.52,  302280.74,  320061.96,  337843.18,\n",
       "         355624.4 ,  373405.62,  391186.84,  408968.06,  426749.28,\n",
       "         444530.5 ,  462311.72,  480092.94,  497874.16,  515655.38,\n",
       "         533436.6 ,  551217.82,  568999.04,  586780.26,  604561.48,\n",
       "         622342.7 ,  640123.92,  657905.14,  675686.36,  693467.58,\n",
       "         711248.8 ,  729030.02,  746811.24,  764592.46,  782373.68,\n",
       "         800154.9 ,  817936.12,  835717.34,  853498.56,  871279.78,  889061.  ]),\n",
       " <a list of 50 Patch objects>)"
      ]
     },
     "execution_count": 7,
     "metadata": {},
     "output_type": "execute_result"
    },
    {
     "data": {
      "image/png": "[encoded data removed]",
      "text/plain": [
       "<matplotlib.figure.Figure at 0x7f4bd1f5b3c8>"
      ]
     },
     "metadata": {
      "needs_background": "light"
     },
     "output_type": "display_data"
    }
   ],
   "source": [
    "nullCounts = azdias.isnull().sum(axis = 0)\n",
    "\n",
    "plt.title('Plot 1: NaN counts')\n",
    "plt.hist(nullCounts, bins = 50)"
   ]
  },
  {
   "cell_type": "markdown",
   "metadata": {},
   "source": [
    "This histogram clearly has a different distribution than before.  A pattern of outliers has emerged, where columns with NaN count > ~190k seem to be problematic.  Here is a look at which columns they are:"
   ]
  },
  {
   "cell_type": "code",
   "execution_count": 8,
   "metadata": {},
   "outputs": [
    {
     "name": "stdout",
     "output_type": "stream",
     "text": [
      "AGER_TYP has 685843 NaNs.\n",
      "GEBURTSJAHR has 392318 NaNs.\n",
      "TITEL_KZ has 889061 NaNs.\n",
      "ALTER_HH has 310267 NaNs.\n",
      "KK_KUNDENTYP has 584612 NaNs.\n",
      "KBA05_BAUMAX has 476524 NaNs.\n"
     ]
    }
   ],
   "source": [
    "for col in azdias:\n",
    "    null_count = azdias[col].isnull().sum(axis = 0)\n",
    "    if null_count > 190000:\n",
    "        print(col + \" has \" + str(null_count) + \" NaNs.\")"
   ]
  },
  {
   "cell_type": "markdown",
   "metadata": {},
   "source": [
    "At this point it is useful to look back at the subject-matter domain.  Here are the descriptions of the columns from the data dictionary:\n",
    "\n",
    "1.1. AGER_TYP\n",
    "Best-ager typology\n",
    "- -1: unknown\n",
    "-  0: no classification possible\n",
    "-  1: passive elderly\n",
    "-  2: cultural elderly\n",
    "-  3: experience-driven elderly\n",
    "\n",
    "1.7. GEBURTSJAHR\n",
    "Year of birth\n",
    "- missing data encoded as 0\n",
    "\n",
    "2.1. ALTER_HH\n",
    "Birthdate of head of household\n",
    "-  0: unknown / no main age detectable\n",
    "-  1: 1895-01-01 to 1899-12-31\n",
    "-  2: 1900-01-01 to 1904-12-31\n",
    "-  3: 1905-01-01 to 1909-12-31\n",
    "-  4: 1910-01-01 to 1914-12-31\n",
    "-  5: 1915-01-01 to 1919-12-31\n",
    "-  6: 1920-01-01 to 1924-12-31\n",
    "-  7: 1925-01-01 to 1929-12-31\n",
    "-  8: 1930-01-01 to 1934-12-31\n",
    "-  9: 1935-01-01 to 1939-12-31\n",
    "- 10: 1940-01-01 to 1944-12-31\n",
    "- 11: 1945-01-01 to 1949-12-31\n",
    "- 12: 1950-01-01 to 1954-12-31\n",
    "- 13: 1955-01-01 to 1959-12-31\n",
    "- 14: 1960-01-01 to 1964-12-31\n",
    "- 15: 1965-01-01 to 1969-12-31\n",
    "- 16: 1970-01-01 to 1974-12-31\n",
    "- 17: 1975-01-01 to 1979-12-31\n",
    "- 18: 1980-01-01 to 1984-12-31\n",
    "- 19: 1985-01-01 to 1989-12-31\n",
    "- 20: 1990-01-01 to 1994-12-31\n",
    "- 21: 1995-01-01 to 1999-12-31\n",
    "\n",
    "1.23. TITEL_KZ\n",
    "Academic title flag\n",
    "- -1: unknown\n",
    "-  0: unknown\n",
    "-  1: Dr.\n",
    "-  2: Dr. Dr.\n",
    "-  3: Prof.\n",
    "-  4: Prof. Dr.\n",
    "-  5: other\n",
    "\n",
    "2.5. KK_KUNDENTYP\n",
    "Consumer pattern over past 12 months\n",
    "- -1: unknown\n",
    "-  1: regular customer\n",
    "-  2: active customer\n",
    "-  3: new costumer\n",
    "-  4: stray customer\n",
    "-  5: inactive customer\n",
    "-  6: passive customer\n",
    "\n",
    "5.5. KBA05_BAUMAX\n",
    "Most common building type within the microcell\n",
    "- -1: unknown\n",
    "-  0: unknown\n",
    "-  1: mainly 1-2 family homes in the microcell\n",
    "-  2: mainly 3-5 family homes in the microcell\n",
    "-  3: mainly 6-10 family homes in the microcell\n",
    "-  4: mainly 10+ family homes in the microcell\n",
    "-  5: mainly business buildings in the microcell\n",
    "\n",
    "It is clear why TITEL_KZ and AGER_TYP have so many missing data valuse -- the features apply only to academic and elderly segments of the population respectively, and I have no problems with dropping either.\n",
    "\n",
    "KK_KUNDENTYP on the other hand sounds like it would be very informative for a customer segment.  If this were a real-life application, I would be tempted to re-encode all missing data values as 'regular customer' and evaluate.  However, for this exercise I will be removing it.\n",
    "\n",
    "For both of the two date-of-birth attributes, the unavailability is regreattable; however, the person's age can be estmimated from other values (such as decade of youth movement).\n",
    "\n",
    "I don't really understand what a 'microcell' is - maybe a city block?  There are many other attributes that give information about the person's neighborhood and I am not concnerned about dropping this attribute."
   ]
  },
  {
   "cell_type": "code",
   "execution_count": 4,
   "metadata": {},
   "outputs": [],
   "source": [
    "# Remove the outlier columns from the dataset. (You'll perform other data\n",
    "# engineering tasks such as re-encoding and imputation later.)\n",
    "\n",
    "#I am considering the column with >200k missing entries to be the \"outlier\" -- the lowest outlier was KBA05_BAUMAX with 208k\n",
    "\n",
    "#make a copy of the dataframe for posterity\n",
    "azdias_copy = azdias.copy()\n",
    "\n",
    "for col in azdias:\n",
    "    if azdias[col].isnull().sum() > 200000:\n",
    "        azdias.drop(col, axis=1)\n",
    "\n",
    "### Run this to create final clustering model\n"
   ]
  },
  {
   "cell_type": "markdown",
   "metadata": {},
   "source": [
    "#### Step 1.1.3: Assess Missing Data in Each Row\n",
    "\n",
    "Now, you'll perform a similar assessment for the rows of the dataset. How much data is missing in each row? As with the columns, you should see some groups of points that have a very different numbers of missing values. Divide the data into two subsets: one for data points that are above some threshold for missing values, and a second subset for points below that threshold.\n",
    "\n",
    "In order to know what to do with the outlier rows, we should see if the distribution of data values on columns that are not missing data (or are missing very little data) are similar or different between the two groups. Select at least five of these columns and compare the distribution of values.\n",
    "- You can use seaborn's [`countplot()`](https://seaborn.pydata.org/generated/seaborn.countplot.html) function to create a bar chart of code frequencies and matplotlib's [`subplot()`](https://matplotlib.org/api/_as_gen/matplotlib.pyplot.subplot.html) function to put bar charts for the two subplots side by side.\n",
    "- To reduce repeated code, you might want to write a function that can perform this comparison, taking as one of its arguments a column to be compared.\n",
    "\n",
    "Depending on what you observe in your comparison, this will have implications on how you approach your conclusions later in the analysis. If the distributions of non-missing features look similar between the data with many missing values and the data with few or no missing values, then we could argue that simply dropping those points from the analysis won't present a major issue. On the other hand, if the data with many missing values looks very different from the data with few or no missing values, then we should make a note on those data as special. We'll revisit these data later on. **Either way, you should continue your analysis for now using just the subset of the data with few or no missing values.**"
   ]
  },
  {
   "cell_type": "code",
   "execution_count": 5,
   "metadata": {},
   "outputs": [],
   "source": [
    "# How much data is missing in each row of the dataset?\n",
    "azdias['missingVals'] = azdias.isnull().sum(axis=1)\n",
    "\n",
    "### Run this to create final clustering model\n"
   ]
  },
  {
   "cell_type": "code",
   "execution_count": 11,
   "metadata": {},
   "outputs": [
    {
     "data": {
      "text/plain": [
       "<matplotlib.axes._subplots.AxesSubplot at 0x7f4bd1f6c080>"
      ]
     },
     "execution_count": 11,
     "metadata": {},
     "output_type": "execute_result"
    },
    {
     "data": {
      "image/png": "[encoded data removed]",
      "text/plain": [
       "<matplotlib.figure.Figure at 0x7f4bd1ea5cc0>"
      ]
     },
     "metadata": {
      "needs_background": "light"
     },
     "output_type": "display_data"
    }
   ],
   "source": [
    "plt.title('Plot 3: Null Value Count by Row')\n",
    "sns.countplot(azdias['missingVals'])"
   ]
  },
  {
   "cell_type": "markdown",
   "metadata": {},
   "source": [
    "#### Discussion 1.1.3: Assess Missing Data in Each Row\n",
    "\n",
    "An inspection of the data illustrated by Plot 3 suggests a main population with mean around three missing columns.  The maxima at 11 and 18 suggest there may be separate populations with mean values at those column counts, but the main population should be considered to extend to at least 12 rows, which I wil lbe usingas the upper bound for removing rows. \n",
    "\n",
    "I have arbitrarily selected the following columns to compare:\n",
    " - FINANZ_HAUSBAUER\n",
    " - PRAEGENDE_JUGENDJAHRE\n",
    " - SEMIO_MAT\n",
    " - VERS_TYP\n",
    " - ZABEOTYP\n",
    " - LP_LEBENSPHASE_GROB\n",
    " - ONLINE_AFFINITAET\n",
    "\n",
    "The first five had no null values (excluding unknown data codes), and the last two had 4854."
   ]
  },
  {
   "cell_type": "code",
   "execution_count": 6,
   "metadata": {},
   "outputs": [],
   "source": [
    "#separate data into two populations\n",
    "\n",
    "azdias['population'] = azdias.apply(lambda row: row['missingVals'] < 12,axis=1)\n",
    "azdias_main = azdias[azdias[\"population\"] == True]\n",
    "azdias_outliers = azdias[azdias[\"population\"] == False]\n",
    "\n",
    "### Run this to create final clustering model"
   ]
  },
  {
   "cell_type": "code",
   "execution_count": 13,
   "metadata": {},
   "outputs": [
    {
     "data": {
      "text/plain": [
       "<matplotlib.axes._subplots.AxesSubplot at 0x7f4bc79e8470>"
      ]
     },
     "execution_count": 13,
     "metadata": {},
     "output_type": "execute_result"
    },
    {
     "data": {
      "image/png": "[encoded data removed]",
      "text/plain": [
       "<matplotlib.figure.Figure at 0x7f4bd1efc6d8>"
      ]
     },
     "metadata": {
      "needs_background": "light"
     },
     "output_type": "display_data"
    }
   ],
   "source": [
    "# Compare the distribution of values for at least five columns where there are\n",
    "# no or few missing values, between the two subsets.\n",
    "\n",
    "plt.title('Plot 3: Main population - FINANZ_HAUSBAUER')\n",
    "sns.countplot(azdias_main['FINANZ_HAUSBAUER'])"
   ]
  },
  {
   "cell_type": "code",
   "execution_count": 14,
   "metadata": {},
   "outputs": [
    {
     "data": {
      "text/plain": [
       "<matplotlib.axes._subplots.AxesSubplot at 0x7f4bc79f5b00>"
      ]
     },
     "execution_count": 14,
     "metadata": {},
     "output_type": "execute_result"
    },
    {
     "data": {
      "image/png": "[encoded data removed]",
      "text/plain": [
       "<matplotlib.figure.Figure at 0x7f4bc79d5ba8>"
      ]
     },
     "metadata": {
      "needs_background": "light"
     },
     "output_type": "display_data"
    }
   ],
   "source": [
    "plt.title('Plot 4: Outlier population - FINANZ_HAUSBAUER')\n",
    "sns.countplot(azdias_outliers['FINANZ_HAUSBAUER'])"
   ]
  },
  {
   "cell_type": "code",
   "execution_count": 15,
   "metadata": {},
   "outputs": [
    {
     "data": {
      "text/plain": [
       "<matplotlib.axes._subplots.AxesSubplot at 0x7f4bb342b080>"
      ]
     },
     "execution_count": 15,
     "metadata": {},
     "output_type": "execute_result"
    },
    {
     "data": {
      "image/png": "[encoded data removed]",
      "text/plain": [
       "<matplotlib.figure.Figure at 0x7f4b1e23bbe0>"
      ]
     },
     "metadata": {
      "needs_background": "light"
     },
     "output_type": "display_data"
    }
   ],
   "source": [
    "plt.title('Plot 5: Main population - PRAEGENDE_JUGENDJAHRE')\n",
    "sns.countplot(azdias_main['PRAEGENDE_JUGENDJAHRE'])"
   ]
  },
  {
   "cell_type": "code",
   "execution_count": 17,
   "metadata": {},
   "outputs": [
    {
     "data": {
      "text/plain": [
       "<matplotlib.axes._subplots.AxesSubplot at 0x7f4bb33b3710>"
      ]
     },
     "execution_count": 17,
     "metadata": {},
     "output_type": "execute_result"
    },
    {
     "data": {
      "image/png": "[encoded data removed]",
      "text/plain": [
       "<matplotlib.figure.Figure at 0x7f4bb33c0d68>"
      ]
     },
     "metadata": {
      "needs_background": "light"
     },
     "output_type": "display_data"
    }
   ],
   "source": [
    "plt.title('Plot 6: Outlier population - PRAEGENDE_JUGENDJAHRE')\n",
    "sns.countplot(azdias_outliers['PRAEGENDE_JUGENDJAHRE'])"
   ]
  },
  {
   "cell_type": "code",
   "execution_count": 18,
   "metadata": {},
   "outputs": [
    {
     "data": {
      "text/plain": [
       "<matplotlib.axes._subplots.AxesSubplot at 0x7f4bb330df28>"
      ]
     },
     "execution_count": 18,
     "metadata": {},
     "output_type": "execute_result"
    },
    {
     "data": {
      "image/png": "[encoded data removed]",
      "text/plain": [
       "<matplotlib.figure.Figure at 0x7f4bb3354898>"
      ]
     },
     "metadata": {
      "needs_background": "light"
     },
     "output_type": "display_data"
    }
   ],
   "source": [
    "plt.title('Plot 7: Main population - SEMIO_MAT')\n",
    "sns.countplot(azdias_main['SEMIO_MAT'])"
   ]
  },
  {
   "cell_type": "code",
   "execution_count": 19,
   "metadata": {},
   "outputs": [
    {
     "data": {
      "text/plain": [
       "<matplotlib.axes._subplots.AxesSubplot at 0x7f4bb32b5a20>"
      ]
     },
     "execution_count": 19,
     "metadata": {},
     "output_type": "execute_result"
    },
    {
     "data": {
      "image/png": "[encoded data removed]",
      "text/plain": [
       "<matplotlib.figure.Figure at 0x7f4bb33c0c50>"
      ]
     },
     "metadata": {
      "needs_background": "light"
     },
     "output_type": "display_data"
    }
   ],
   "source": [
    "plt.title('Plot 8: Outlier population - SEMIO_MAT')\n",
    "sns.countplot(azdias_outliers['SEMIO_MAT'])"
   ]
  },
  {
   "cell_type": "code",
   "execution_count": 20,
   "metadata": {},
   "outputs": [
    {
     "data": {
      "text/plain": [
       "<matplotlib.axes._subplots.AxesSubplot at 0x7f4bb3271c18>"
      ]
     },
     "execution_count": 20,
     "metadata": {},
     "output_type": "execute_result"
    },
    {
     "data": {
      "image/png": "[encoded data removed]",
      "text/plain": [
       "<matplotlib.figure.Figure at 0x7f4bb325bc88>"
      ]
     },
     "metadata": {
      "needs_background": "light"
     },
     "output_type": "display_data"
    }
   ],
   "source": [
    "plt.title('Plot 9: Main population - VERS_TYP')\n",
    "sns.countplot(azdias_main['VERS_TYP'])"
   ]
  },
  {
   "cell_type": "code",
   "execution_count": 21,
   "metadata": {},
   "outputs": [
    {
     "data": {
      "text/plain": [
       "<matplotlib.axes._subplots.AxesSubplot at 0x7f4bb31bc048>"
      ]
     },
     "execution_count": 21,
     "metadata": {},
     "output_type": "execute_result"
    },
    {
     "data": {
      "image/png": "[encoded data removed]",
      "text/plain": [
       "<matplotlib.figure.Figure at 0x7f4bb31ad550>"
      ]
     },
     "metadata": {
      "needs_background": "light"
     },
     "output_type": "display_data"
    }
   ],
   "source": [
    "plt.title('Plot 10: Outlier population - VERS_TYP')\n",
    "sns.countplot(azdias_outliers['VERS_TYP'])"
   ]
  },
  {
   "cell_type": "code",
   "execution_count": 22,
   "metadata": {},
   "outputs": [
    {
     "data": {
      "text/plain": [
       "<matplotlib.axes._subplots.AxesSubplot at 0x7f4bb3194048>"
      ]
     },
     "execution_count": 22,
     "metadata": {},
     "output_type": "execute_result"
    },
    {
     "data": {
      "image/png": "[encoded data removed]",
      "text/plain": [
       "<matplotlib.figure.Figure at 0x7f4bb31e64e0>"
      ]
     },
     "metadata": {
      "needs_background": "light"
     },
     "output_type": "display_data"
    }
   ],
   "source": [
    "plt.title('Plot 11: Main population - ZABEOTYP')\n",
    "sns.countplot(azdias_main['ZABEOTYP'])"
   ]
  },
  {
   "cell_type": "code",
   "execution_count": 23,
   "metadata": {},
   "outputs": [
    {
     "data": {
      "text/plain": [
       "<matplotlib.axes._subplots.AxesSubplot at 0x7f4bb31ef4e0>"
      ]
     },
     "execution_count": 23,
     "metadata": {},
     "output_type": "execute_result"
    },
    {
     "data": {
      "image/png": "[encoded data removed]",
      "text/plain": [
       "<matplotlib.figure.Figure at 0x7f4bb30ebd68>"
      ]
     },
     "metadata": {
      "needs_background": "light"
     },
     "output_type": "display_data"
    }
   ],
   "source": [
    "plt.title('Plot 12: Outlier population - ZABEOTYP')\n",
    "sns.countplot(azdias_outliers['ZABEOTYP'])"
   ]
  },
  {
   "cell_type": "code",
   "execution_count": 24,
   "metadata": {},
   "outputs": [
    {
     "data": {
      "text/plain": [
       "<matplotlib.axes._subplots.AxesSubplot at 0x7f4bb311ecf8>"
      ]
     },
     "execution_count": 24,
     "metadata": {},
     "output_type": "execute_result"
    },
    {
     "data": {
      "image/png": "[encoded data removed]",
      "text/plain": [
       "<matplotlib.figure.Figure at 0x7f4bb31215f8>"
      ]
     },
     "metadata": {
      "needs_background": "light"
     },
     "output_type": "display_data"
    }
   ],
   "source": [
    "plt.title('Plot 13: Main population - LP_LEBENSPHASE_GROB')\n",
    "sns.countplot(azdias_main['LP_LEBENSPHASE_GROB'])"
   ]
  },
  {
   "cell_type": "code",
   "execution_count": 25,
   "metadata": {},
   "outputs": [
    {
     "data": {
      "text/plain": [
       "<matplotlib.axes._subplots.AxesSubplot at 0x7f4bb2fef3c8>"
      ]
     },
     "execution_count": 25,
     "metadata": {},
     "output_type": "execute_result"
    },
    {
     "data": {
      "image/png": "[encoded data removed]",
      "text/plain": [
       "<matplotlib.figure.Figure at 0x7f4bb302fda0>"
      ]
     },
     "metadata": {
      "needs_background": "light"
     },
     "output_type": "display_data"
    }
   ],
   "source": [
    "plt.title('Plot 14: Outlier population - LP_LEBENSPHASE_GROB')\n",
    "sns.countplot(azdias_outliers['LP_LEBENSPHASE_GROB'])"
   ]
  },
  {
   "cell_type": "code",
   "execution_count": 26,
   "metadata": {},
   "outputs": [
    {
     "data": {
      "text/plain": [
       "<matplotlib.axes._subplots.AxesSubplot at 0x7f4bb2f69940>"
      ]
     },
     "execution_count": 26,
     "metadata": {},
     "output_type": "execute_result"
    },
    {
     "data": {
      "image/png": "[encoded data removed]",
      "text/plain": [
       "<matplotlib.figure.Figure at 0x7f4bb2fbee80>"
      ]
     },
     "metadata": {
      "needs_background": "light"
     },
     "output_type": "display_data"
    }
   ],
   "source": [
    "plt.title('Plot 15: Main population - ONLINE_AFFINITAET')\n",
    "sns.countplot(azdias_main['ONLINE_AFFINITAET'])"
   ]
  },
  {
   "cell_type": "code",
   "execution_count": 27,
   "metadata": {},
   "outputs": [
    {
     "data": {
      "text/plain": [
       "<matplotlib.axes._subplots.AxesSubplot at 0x7f4bb2ff9978>"
      ]
     },
     "execution_count": 27,
     "metadata": {},
     "output_type": "execute_result"
    },
    {
     "data": {
      "image/png": "[encoded data removed]",
      "text/plain": [
       "<matplotlib.figure.Figure at 0x7f4bb2f41748>"
      ]
     },
     "metadata": {
      "needs_background": "light"
     },
     "output_type": "display_data"
    }
   ],
   "source": [
    "plt.title('Plot 16: Outlier population - ONLINE_AFFINITAET')\n",
    "sns.countplot(azdias_outliers['ONLINE_AFFINITAET'])"
   ]
  },
  {
   "cell_type": "markdown",
   "metadata": {},
   "source": [
    "## Discussion:\n",
    "\n",
    "A comparison of the distribution of values in the main population versus the outlier population shows significant differences in at least some columns.  Good examples include ZABEOTYP, SEMIO_MAT, and ONLINE_AFFINITAET:\n",
    "\n",
    "1.25. ZABEOTYP\n",
    "Energy consumption typology\n",
    "- -1: unknown\n",
    "-  1: green\n",
    "-  2: smart\n",
    "-  3: fair supplied\n",
    "-  4: price driven\n",
    "-  5: seeking orientation\n",
    "-  6: indifferent\n",
    "-  9: unknown\n",
    "\n",
    "3: \"fair supplied\" was a clear majority in the outliers and was close to even in the main population\n",
    "\n",
    "1.20. SEMIO_MAT (- MAT: materialistic)\n",
    "\n",
    "Personality typology, for each dimension:\n",
    "- -1: unknown\n",
    "-  1: highest affinity\n",
    "-  2: very high affinity\n",
    "-  3: high affinity\n",
    "-  4: average affinity\n",
    "-  5: low affinity\n",
    "-  6: very low affinity\n",
    "-  7: lowest affinity\n",
    "-  9: unknown\n",
    "\n",
    "2, 3, and 4 were the most frequently represented in the main population, while 5 was the clear majority in the outliers. \n",
    "\n",
    "\n",
    "7.4. ONLINE_AFFINITAET\n",
    "Online affinity\n",
    "- 0: none\n",
    "- 1: low\n",
    "- 2: middle\n",
    "- 3: high\n",
    "- 4: very high\n",
    "- 5: highest\n",
    "\n",
    "This feature peaked sharply for the outliers at \"middle\" and was even for the main population\n",
    "\n",
    "Analysis of the two populations shows that there are consequences to dropping rows."
   ]
  },
  {
   "cell_type": "markdown",
   "metadata": {},
   "source": [
    "### Step 1.2: Select and Re-Encode Features\n",
    "\n",
    "Checking for missing data isn't the only way in which you can prepare a dataset for analysis. Since the unsupervised learning techniques to be used will only work on data that is encoded numerically, you need to make a few encoding changes or additional assumptions to be able to make progress. In addition, while almost all of the values in the dataset are encoded using numbers, not all of them represent numeric values. Check the third column of the feature summary (`feat_info`) for a summary of types of measurement.\n",
    "- For numeric and interval data, these features can be kept without changes.\n",
    "- Most of the variables in the dataset are ordinal in nature. While ordinal values may technically be non-linear in spacing, make the simplifying assumption that the ordinal variables can be treated as being interval in nature (that is, kept without any changes).\n",
    "- Special handling may be necessary for the remaining two variable types: categorical, and 'mixed'.\n",
    "\n",
    "In the first two parts of this sub-step, you will perform an investigation of the categorical and mixed-type features and make a decision on each of them, whether you will keep, drop, or re-encode each. Then, in the last part, you will create a new data frame with only the selected and engineered columns.\n",
    "\n",
    "Data wrangling is often the trickiest part of the data analysis process, and there's a lot of it to be done here. But stick with it: once you're done with this step, you'll be ready to get to the machine learning parts of the project!"
   ]
  },
  {
   "cell_type": "code",
   "execution_count": 28,
   "metadata": {},
   "outputs": [
    {
     "data": {
      "text/plain": [
       "<matplotlib.axes._subplots.AxesSubplot at 0x7f4bb2f16978>"
      ]
     },
     "execution_count": 28,
     "metadata": {},
     "output_type": "execute_result"
    },
    {
     "data": {
      "image/png": "[encoded data removed]",
      "text/plain": [
       "<matplotlib.figure.Figure at 0x7f4bb2f7fd30>"
      ]
     },
     "metadata": {
      "needs_background": "light"
     },
     "output_type": "display_data"
    }
   ],
   "source": [
    "# How many features are there of each data type?\n",
    "\n",
    "plt.title('Plot 18: Count of Features by Data Type')\n",
    "sns.countplot(feat_info['type'])\n"
   ]
  },
  {
   "cell_type": "markdown",
   "metadata": {},
   "source": [
    "#### Step 1.2.1: Re-Encode Categorical Features\n",
    "\n",
    "For categorical data, you would ordinarily need to encode the levels as dummy variables. Depending on the number of categories, perform one of the following:\n",
    "- For binary (two-level) categoricals that take numeric values, you can keep them without needing to do anything.\n",
    "- There is one binary variable that takes on non-numeric values. For this one, you need to re-encode the values as numbers or create a dummy variable.\n",
    "- For multi-level categoricals (three or more values), you can choose to encode the values using multiple dummy variables (e.g. via [OneHotEncoder](http://scikit-learn.org/stable/modules/generated/sklearn.preprocessing.OneHotEncoder.html)), or (to keep things straightforward) just drop them from the analysis. As always, document your choices in the Discussion section."
   ]
  },
  {
   "cell_type": "code",
   "execution_count": 29,
   "metadata": {},
   "outputs": [
    {
     "data": {
      "text/html": [
       "<div>\n",
       "<style>\n",
       "    .dataframe thead tr:only-child th {\n",
       "        text-align: right;\n",
       "    }\n",
       "\n",
       "    .dataframe thead th {\n",
       "        text-align: left;\n",
       "    }\n",
       "\n",
       "    .dataframe tbody tr th {\n",
       "        vertical-align: top;\n",
       "    }\n",
       "</style>\n",
       "<table border=\"1\" class=\"dataframe\">\n",
       "  <thead>\n",
       "    <tr style=\"text-align: right;\">\n",
       "      <th></th>\n",
       "      <th>attribute</th>\n",
       "      <th>information_level</th>\n",
       "      <th>type</th>\n",
       "      <th>missing_or_unknown</th>\n",
       "    </tr>\n",
       "  </thead>\n",
       "  <tbody>\n",
       "    <tr>\n",
       "      <th>0</th>\n",
       "      <td>AGER_TYP</td>\n",
       "      <td>person</td>\n",
       "      <td>categorical</td>\n",
       "      <td>[-1,0]</td>\n",
       "    </tr>\n",
       "    <tr>\n",
       "      <th>2</th>\n",
       "      <td>ANREDE_KZ</td>\n",
       "      <td>person</td>\n",
       "      <td>categorical</td>\n",
       "      <td>[-1,0]</td>\n",
       "    </tr>\n",
       "    <tr>\n",
       "      <th>3</th>\n",
       "      <td>CJT_GESAMTTYP</td>\n",
       "      <td>person</td>\n",
       "      <td>categorical</td>\n",
       "      <td>[0]</td>\n",
       "    </tr>\n",
       "    <tr>\n",
       "      <th>10</th>\n",
       "      <td>FINANZTYP</td>\n",
       "      <td>person</td>\n",
       "      <td>categorical</td>\n",
       "      <td>[-1]</td>\n",
       "    </tr>\n",
       "    <tr>\n",
       "      <th>12</th>\n",
       "      <td>GFK_URLAUBERTYP</td>\n",
       "      <td>person</td>\n",
       "      <td>categorical</td>\n",
       "      <td>[]</td>\n",
       "    </tr>\n",
       "    <tr>\n",
       "      <th>13</th>\n",
       "      <td>GREEN_AVANTGARDE</td>\n",
       "      <td>person</td>\n",
       "      <td>categorical</td>\n",
       "      <td>[]</td>\n",
       "    </tr>\n",
       "    <tr>\n",
       "      <th>17</th>\n",
       "      <td>LP_FAMILIE_FEIN</td>\n",
       "      <td>person</td>\n",
       "      <td>categorical</td>\n",
       "      <td>[0]</td>\n",
       "    </tr>\n",
       "    <tr>\n",
       "      <th>18</th>\n",
       "      <td>LP_FAMILIE_GROB</td>\n",
       "      <td>person</td>\n",
       "      <td>categorical</td>\n",
       "      <td>[0]</td>\n",
       "    </tr>\n",
       "    <tr>\n",
       "      <th>19</th>\n",
       "      <td>LP_STATUS_FEIN</td>\n",
       "      <td>person</td>\n",
       "      <td>categorical</td>\n",
       "      <td>[0]</td>\n",
       "    </tr>\n",
       "    <tr>\n",
       "      <th>20</th>\n",
       "      <td>LP_STATUS_GROB</td>\n",
       "      <td>person</td>\n",
       "      <td>categorical</td>\n",
       "      <td>[0]</td>\n",
       "    </tr>\n",
       "    <tr>\n",
       "      <th>21</th>\n",
       "      <td>NATIONALITAET_KZ</td>\n",
       "      <td>person</td>\n",
       "      <td>categorical</td>\n",
       "      <td>[-1,0]</td>\n",
       "    </tr>\n",
       "    <tr>\n",
       "      <th>38</th>\n",
       "      <td>SHOPPER_TYP</td>\n",
       "      <td>person</td>\n",
       "      <td>categorical</td>\n",
       "      <td>[-1]</td>\n",
       "    </tr>\n",
       "    <tr>\n",
       "      <th>39</th>\n",
       "      <td>SOHO_KZ</td>\n",
       "      <td>person</td>\n",
       "      <td>categorical</td>\n",
       "      <td>[-1]</td>\n",
       "    </tr>\n",
       "    <tr>\n",
       "      <th>40</th>\n",
       "      <td>TITEL_KZ</td>\n",
       "      <td>person</td>\n",
       "      <td>categorical</td>\n",
       "      <td>[-1,0]</td>\n",
       "    </tr>\n",
       "    <tr>\n",
       "      <th>41</th>\n",
       "      <td>VERS_TYP</td>\n",
       "      <td>person</td>\n",
       "      <td>categorical</td>\n",
       "      <td>[-1]</td>\n",
       "    </tr>\n",
       "    <tr>\n",
       "      <th>42</th>\n",
       "      <td>ZABEOTYP</td>\n",
       "      <td>person</td>\n",
       "      <td>categorical</td>\n",
       "      <td>[-1,9]</td>\n",
       "    </tr>\n",
       "    <tr>\n",
       "      <th>47</th>\n",
       "      <td>KK_KUNDENTYP</td>\n",
       "      <td>household</td>\n",
       "      <td>categorical</td>\n",
       "      <td>[-1]</td>\n",
       "    </tr>\n",
       "    <tr>\n",
       "      <th>52</th>\n",
       "      <td>GEBAEUDETYP</td>\n",
       "      <td>building</td>\n",
       "      <td>categorical</td>\n",
       "      <td>[-1,0]</td>\n",
       "    </tr>\n",
       "    <tr>\n",
       "      <th>55</th>\n",
       "      <td>OST_WEST_KZ</td>\n",
       "      <td>building</td>\n",
       "      <td>categorical</td>\n",
       "      <td>[-1]</td>\n",
       "    </tr>\n",
       "    <tr>\n",
       "      <th>57</th>\n",
       "      <td>CAMEO_DEUG_2015</td>\n",
       "      <td>microcell_rr4</td>\n",
       "      <td>categorical</td>\n",
       "      <td>[-1,X]</td>\n",
       "    </tr>\n",
       "    <tr>\n",
       "      <th>58</th>\n",
       "      <td>CAMEO_DEU_2015</td>\n",
       "      <td>microcell_rr4</td>\n",
       "      <td>categorical</td>\n",
       "      <td>[XX]</td>\n",
       "    </tr>\n",
       "  </tbody>\n",
       "</table>\n",
       "</div>"
      ],
      "text/plain": [
       "           attribute information_level         type missing_or_unknown\n",
       "0           AGER_TYP            person  categorical             [-1,0]\n",
       "2          ANREDE_KZ            person  categorical             [-1,0]\n",
       "3      CJT_GESAMTTYP            person  categorical                [0]\n",
       "10         FINANZTYP            person  categorical               [-1]\n",
       "12   GFK_URLAUBERTYP            person  categorical                 []\n",
       "13  GREEN_AVANTGARDE            person  categorical                 []\n",
       "17   LP_FAMILIE_FEIN            person  categorical                [0]\n",
       "18   LP_FAMILIE_GROB            person  categorical                [0]\n",
       "19    LP_STATUS_FEIN            person  categorical                [0]\n",
       "20    LP_STATUS_GROB            person  categorical                [0]\n",
       "21  NATIONALITAET_KZ            person  categorical             [-1,0]\n",
       "38       SHOPPER_TYP            person  categorical               [-1]\n",
       "39           SOHO_KZ            person  categorical               [-1]\n",
       "40          TITEL_KZ            person  categorical             [-1,0]\n",
       "41          VERS_TYP            person  categorical               [-1]\n",
       "42          ZABEOTYP            person  categorical             [-1,9]\n",
       "47      KK_KUNDENTYP         household  categorical               [-1]\n",
       "52       GEBAEUDETYP          building  categorical             [-1,0]\n",
       "55       OST_WEST_KZ          building  categorical               [-1]\n",
       "57   CAMEO_DEUG_2015     microcell_rr4  categorical             [-1,X]\n",
       "58    CAMEO_DEU_2015     microcell_rr4  categorical               [XX]"
      ]
     },
     "execution_count": 29,
     "metadata": {},
     "output_type": "execute_result"
    }
   ],
   "source": [
    "feat_info[feat_info['type'] == 'categorical']"
   ]
  },
  {
   "cell_type": "markdown",
   "metadata": {},
   "source": [
    "Assess categorical variables: which are binary, which are multi-level, and\n",
    "which one needs to be re-encoded?\n",
    "\n",
    "| Categorical feature  | Level | Re-encode? | \n",
    "| ------------- |:-------------:| -----:|\n",
    "| AGER_TYP    | multi-level  | no - dropped in 1.1.2 |\n",
    "| ANREDE_KZ      | binary      | no |\n",
    "| CJT_GESAMTTYP | multi-level  | yes |\n",
    "| FINANZTYP      | multi-level | yes |\n",
    "| GFK_URLAUBERTYP      | multi-level | yes |\n",
    "| GREEN_AVANTGARDE | binary  | no |\n",
    "| LP_FAMILIE_FEIN      | multi-level | yes |\n",
    "| LP_FAMILIE_GROB      | multi-level | drop |\n",
    "| LP_STATUS_FEIN\t | multi-level  | yes |\n",
    "| LP_STATUS_GROB\t      | multi-level | drop |\n",
    "| NATIONALITAET_KZ      | multi-level | yes |\n",
    "| SHOPPER_TYP\t | multi-level  | yes |\n",
    "| SOHO_KZ      | binary | no |\n",
    "| TITEL_KZ      | multi-level | no - dropped in 1.1.2 |\n",
    "| VERS_TYP | binary | no |\n",
    "| ZABEOTYP      | multi-level | yes |\n",
    "| KK_KUNDENTYP      | multi-level | no - dropped in 1.1.2 |\n",
    "| GEBAEUDETYP | multi-level | yes |\n",
    "| OST_WEST_KZ      | binary | as numeric |\n",
    "| CAMEO_DEUG_2015      | multi-level | drop |\n",
    "| CAMEO_DEU_2015 | multi-level | yes |\n",
    "\n"
   ]
  },
  {
   "cell_type": "code",
   "execution_count": 7,
   "metadata": {},
   "outputs": [
    {
     "name": "stderr",
     "output_type": "stream",
     "text": [
      "/opt/conda/lib/python3.6/site-packages/ipykernel_launcher.py:1: SettingWithCopyWarning: \n",
      "A value is trying to be set on a copy of a slice from a DataFrame.\n",
      "Try using .loc[row_indexer,col_indexer] = value instead\n",
      "\n",
      "See the caveats in the documentation: http://pandas.pydata.org/pandas-docs/stable/indexing.html#indexing-view-versus-copy\n",
      "  \"\"\"Entry point for launching an IPython kernel.\n"
     ]
    }
   ],
   "source": [
    "azdias_main['num_OST_WEST_KZ'] = azdias_main['OST_WEST_KZ'].apply(lambda x: 1 if x == 'W' else 0)\n",
    "\n",
    "multi_level = [ 'CJT_GESAMTTYP', 'FINANZTYP', 'GFK_URLAUBERTYP', 'LP_FAMILIE_FEIN', 'LP_STATUS_FEIN',\n",
    "               'NATIONALITAET_KZ', 'SHOPPER_TYP', 'ZABEOTYP', 'GEBAEUDETYP',  'CAMEO_DEU_2015']\n",
    "azdias_main = pd.get_dummies(azdias_main, columns = multi_level, prefix = multi_level)\n",
    "\n",
    "### Run this to create final clustering model"
   ]
  },
  {
   "cell_type": "code",
   "execution_count": 31,
   "metadata": {},
   "outputs": [
    {
     "data": {
      "text/html": [
       "<div>\n",
       "<style>\n",
       "    .dataframe thead tr:only-child th {\n",
       "        text-align: right;\n",
       "    }\n",
       "\n",
       "    .dataframe thead th {\n",
       "        text-align: left;\n",
       "    }\n",
       "\n",
       "    .dataframe tbody tr th {\n",
       "        vertical-align: top;\n",
       "    }\n",
       "</style>\n",
       "<table border=\"1\" class=\"dataframe\">\n",
       "  <thead>\n",
       "    <tr style=\"text-align: right;\">\n",
       "      <th></th>\n",
       "      <th>AGER_TYP</th>\n",
       "      <th>ALTERSKATEGORIE_GROB</th>\n",
       "      <th>ANREDE_KZ</th>\n",
       "      <th>FINANZ_MINIMALIST</th>\n",
       "      <th>FINANZ_SPARER</th>\n",
       "      <th>FINANZ_VORSORGER</th>\n",
       "      <th>FINANZ_ANLEGER</th>\n",
       "      <th>FINANZ_UNAUFFAELLIGER</th>\n",
       "      <th>FINANZ_HAUSBAUER</th>\n",
       "      <th>GEBURTSJAHR</th>\n",
       "      <th>...</th>\n",
       "      <th>CAMEO_DEU_2015_7E</th>\n",
       "      <th>CAMEO_DEU_2015_8A</th>\n",
       "      <th>CAMEO_DEU_2015_8B</th>\n",
       "      <th>CAMEO_DEU_2015_8C</th>\n",
       "      <th>CAMEO_DEU_2015_8D</th>\n",
       "      <th>CAMEO_DEU_2015_9A</th>\n",
       "      <th>CAMEO_DEU_2015_9B</th>\n",
       "      <th>CAMEO_DEU_2015_9C</th>\n",
       "      <th>CAMEO_DEU_2015_9D</th>\n",
       "      <th>CAMEO_DEU_2015_9E</th>\n",
       "    </tr>\n",
       "  </thead>\n",
       "  <tbody>\n",
       "    <tr>\n",
       "      <th>1</th>\n",
       "      <td>NaN</td>\n",
       "      <td>1.0</td>\n",
       "      <td>2</td>\n",
       "      <td>1</td>\n",
       "      <td>5</td>\n",
       "      <td>2</td>\n",
       "      <td>5</td>\n",
       "      <td>4</td>\n",
       "      <td>5</td>\n",
       "      <td>1996.0</td>\n",
       "      <td>...</td>\n",
       "      <td>0</td>\n",
       "      <td>1</td>\n",
       "      <td>0</td>\n",
       "      <td>0</td>\n",
       "      <td>0</td>\n",
       "      <td>0</td>\n",
       "      <td>0</td>\n",
       "      <td>0</td>\n",
       "      <td>0</td>\n",
       "      <td>0</td>\n",
       "    </tr>\n",
       "    <tr>\n",
       "      <th>2</th>\n",
       "      <td>NaN</td>\n",
       "      <td>3.0</td>\n",
       "      <td>2</td>\n",
       "      <td>1</td>\n",
       "      <td>4</td>\n",
       "      <td>1</td>\n",
       "      <td>2</td>\n",
       "      <td>3</td>\n",
       "      <td>5</td>\n",
       "      <td>1979.0</td>\n",
       "      <td>...</td>\n",
       "      <td>0</td>\n",
       "      <td>0</td>\n",
       "      <td>0</td>\n",
       "      <td>0</td>\n",
       "      <td>0</td>\n",
       "      <td>0</td>\n",
       "      <td>0</td>\n",
       "      <td>0</td>\n",
       "      <td>0</td>\n",
       "      <td>0</td>\n",
       "    </tr>\n",
       "    <tr>\n",
       "      <th>3</th>\n",
       "      <td>2.0</td>\n",
       "      <td>4.0</td>\n",
       "      <td>2</td>\n",
       "      <td>4</td>\n",
       "      <td>2</td>\n",
       "      <td>5</td>\n",
       "      <td>2</td>\n",
       "      <td>1</td>\n",
       "      <td>2</td>\n",
       "      <td>1957.0</td>\n",
       "      <td>...</td>\n",
       "      <td>0</td>\n",
       "      <td>0</td>\n",
       "      <td>0</td>\n",
       "      <td>0</td>\n",
       "      <td>0</td>\n",
       "      <td>0</td>\n",
       "      <td>0</td>\n",
       "      <td>0</td>\n",
       "      <td>0</td>\n",
       "      <td>0</td>\n",
       "    </tr>\n",
       "    <tr>\n",
       "      <th>4</th>\n",
       "      <td>NaN</td>\n",
       "      <td>3.0</td>\n",
       "      <td>1</td>\n",
       "      <td>4</td>\n",
       "      <td>3</td>\n",
       "      <td>4</td>\n",
       "      <td>1</td>\n",
       "      <td>3</td>\n",
       "      <td>2</td>\n",
       "      <td>1963.0</td>\n",
       "      <td>...</td>\n",
       "      <td>0</td>\n",
       "      <td>0</td>\n",
       "      <td>0</td>\n",
       "      <td>0</td>\n",
       "      <td>0</td>\n",
       "      <td>0</td>\n",
       "      <td>0</td>\n",
       "      <td>0</td>\n",
       "      <td>0</td>\n",
       "      <td>0</td>\n",
       "    </tr>\n",
       "    <tr>\n",
       "      <th>5</th>\n",
       "      <td>3.0</td>\n",
       "      <td>1.0</td>\n",
       "      <td>2</td>\n",
       "      <td>3</td>\n",
       "      <td>1</td>\n",
       "      <td>5</td>\n",
       "      <td>2</td>\n",
       "      <td>2</td>\n",
       "      <td>5</td>\n",
       "      <td>1943.0</td>\n",
       "      <td>...</td>\n",
       "      <td>0</td>\n",
       "      <td>0</td>\n",
       "      <td>0</td>\n",
       "      <td>1</td>\n",
       "      <td>0</td>\n",
       "      <td>0</td>\n",
       "      <td>0</td>\n",
       "      <td>0</td>\n",
       "      <td>0</td>\n",
       "      <td>0</td>\n",
       "    </tr>\n",
       "  </tbody>\n",
       "</table>\n",
       "<p>5 rows × 187 columns</p>\n",
       "</div>"
      ],
      "text/plain": [
       "   AGER_TYP  ALTERSKATEGORIE_GROB  ANREDE_KZ  FINANZ_MINIMALIST  \\\n",
       "1       NaN                   1.0          2                  1   \n",
       "2       NaN                   3.0          2                  1   \n",
       "3       2.0                   4.0          2                  4   \n",
       "4       NaN                   3.0          1                  4   \n",
       "5       3.0                   1.0          2                  3   \n",
       "\n",
       "   FINANZ_SPARER  FINANZ_VORSORGER  FINANZ_ANLEGER  FINANZ_UNAUFFAELLIGER  \\\n",
       "1              5                 2               5                      4   \n",
       "2              4                 1               2                      3   \n",
       "3              2                 5               2                      1   \n",
       "4              3                 4               1                      3   \n",
       "5              1                 5               2                      2   \n",
       "\n",
       "   FINANZ_HAUSBAUER  GEBURTSJAHR        ...          CAMEO_DEU_2015_7E  \\\n",
       "1                 5       1996.0        ...                          0   \n",
       "2                 5       1979.0        ...                          0   \n",
       "3                 2       1957.0        ...                          0   \n",
       "4                 2       1963.0        ...                          0   \n",
       "5                 5       1943.0        ...                          0   \n",
       "\n",
       "   CAMEO_DEU_2015_8A  CAMEO_DEU_2015_8B  CAMEO_DEU_2015_8C  CAMEO_DEU_2015_8D  \\\n",
       "1                  1                  0                  0                  0   \n",
       "2                  0                  0                  0                  0   \n",
       "3                  0                  0                  0                  0   \n",
       "4                  0                  0                  0                  0   \n",
       "5                  0                  0                  1                  0   \n",
       "\n",
       "   CAMEO_DEU_2015_9A  CAMEO_DEU_2015_9B  CAMEO_DEU_2015_9C  CAMEO_DEU_2015_9D  \\\n",
       "1                  0                  0                  0                  0   \n",
       "2                  0                  0                  0                  0   \n",
       "3                  0                  0                  0                  0   \n",
       "4                  0                  0                  0                  0   \n",
       "5                  0                  0                  0                  0   \n",
       "\n",
       "   CAMEO_DEU_2015_9E  \n",
       "1                  0  \n",
       "2                  0  \n",
       "3                  0  \n",
       "4                  0  \n",
       "5                  0  \n",
       "\n",
       "[5 rows x 187 columns]"
      ]
     },
     "execution_count": 31,
     "metadata": {},
     "output_type": "execute_result"
    }
   ],
   "source": [
    "azdias_main.head(5)\n",
    "\n"
   ]
  },
  {
   "cell_type": "markdown",
   "metadata": {},
   "source": [
    "#### Discussion 1.2.1: Re-Encode Categorical Features\n",
    "\n",
    "I encoded the OST_WEST_KZ binary attribute as 0 or 1.  \n",
    "\n",
    "Inspection of the data dictionary shows that the attributes CAMEO_DEUG_2015, LP_STATUS_GROB, LP_FAMILIE_GROB are generalized versions of the CAMEO_DEU_2015, LP_STATUS_FIEN, and LP_FAMILIE_FEIN attributes.  Since these attributes are redundant and less informative, I dropped them at this stage.\n",
    "\n",
    "AGER_TYP, TITEL_KZ, and KK_KUNDENTYP have already been designated to be dropped as a result of the missing column data analysis.\n",
    "\n",
    "I one-hot encoded the remaining categorical attributes."
   ]
  },
  {
   "cell_type": "markdown",
   "metadata": {},
   "source": [
    "#### Step 1.2.2: Engineer Mixed-Type Features\n",
    "\n",
    "There are a handful of features that are marked as \"mixed\" in the feature summary that require special treatment in order to be included in the analysis. There are two in particular that deserve attention; the handling of the rest are up to your own choices:\n",
    "- \"PRAEGENDE_JUGENDJAHRE\" combines information on three dimensions: generation by decade, movement (mainstream vs. avantgarde), and nation (east vs. west). While there aren't enough levels to disentangle east from west, you should create two new variables to capture the other two dimensions: an interval-type variable for decade, and a binary variable for movement.\n",
    "- \"CAMEO_INTL_2015\" combines information on two axes: wealth and life stage. Break up the two-digit codes by their 'tens'-place and 'ones'-place digits into two new ordinal variables (which, for the purposes of this project, is equivalent to just treating them as their raw numeric values).\n",
    "- If you decide to keep or engineer new features around the other mixed-type features, make sure you note your steps in the Discussion section.\n",
    "\n",
    "Be sure to check `Data_Dictionary.md` for the details needed to finish these tasks."
   ]
  },
  {
   "cell_type": "code",
   "execution_count": 8,
   "metadata": {},
   "outputs": [],
   "source": [
    "# Investigate \"PRAEGENDE_JUGENDJAHRE\" and engineer two new variables.\n",
    "\n",
    "###Decade\n",
    "'''\n",
    "1 = 40s\n",
    "2 = 50s\n",
    "3 = 60s\n",
    "4 = 70s\n",
    "5 = 80s\n",
    "6 = 90s\n",
    "'''\n",
    "decades = dict([(1,1), (2,1), (3,2), (4,2), (5,3), (6,3), (7,3), (8,4), (9,4), (10,5), (11,5), (12,5), (13,5), (14,6), (15,6)])\n",
    "\n",
    "###Movement type\n",
    "'''\n",
    "0 = Mainstream\n",
    "1 = Avantgarde\n",
    "'''\n",
    "movements = dict([(1,0), (2,1), (3,0), (4,1), (5,0), (6,1), (7,1), (8,0), (9,1), (10,0), (11,1), (12,0), (13,1), (14,0), (15,1)])\n",
    "\n",
    "azdias_main['PRAEGENDE_JUGENDJAHRE_decade'] = azdias_main['PRAEGENDE_JUGENDJAHRE'].map(decades)\n",
    "azdias_main['PRAEGENDE_JUGENDJAHRE_mov'] = azdias_main['PRAEGENDE_JUGENDJAHRE'].map(movements)\n",
    "\n",
    "### Run this to create final clustering model\n"
   ]
  },
  {
   "cell_type": "code",
   "execution_count": 9,
   "metadata": {},
   "outputs": [],
   "source": [
    "# Investigate \"CAMEO_INTL_2015\" and engineer two new variables.\n",
    "\n",
    "##Wealth\n",
    "'''\n",
    "1 = Wealthy Households\n",
    "2 = Prosperous Households\n",
    "3 = Comfortable Households\n",
    "4 = Less Affluent Households\n",
    "5 = Poorer Households\n",
    "'''\n",
    "##Family type\n",
    "'''\n",
    "1 = Pre-Family Couples & Singles\n",
    "2 = Young Couples With Children\n",
    "3 = Families With School Age Children\n",
    "4 = Older Families &  Mature Couples\n",
    "5 = Wealthy Households - Elders In Retirement\n",
    "'''\n",
    "\n",
    "##these values can be obtained arithmetically\n",
    "azdias_main['CAMEO_INTL_2015_wealth'] = azdias_main['CAMEO_INTL_2015'].apply(lambda x: np.nan if pd.isnull(x) else divmod(int(x), 10)[1])\n",
    "azdias_main['CAMEO_INTL_2015_family'] = azdias_main['CAMEO_INTL_2015'].apply(lambda x: np.nan if pd.isnull(x) else int(x) // 10)\n",
    "\n",
    "### Run this to create final clustering model"
   ]
  },
  {
   "cell_type": "code",
   "execution_count": 10,
   "metadata": {},
   "outputs": [],
   "source": [
    "# Investigate \"WOHNLAGE\" and de-couple rural-urban data from neighborhood wealth data\n",
    "\n",
    "#Reference: based on reviewer feedback\n",
    "\n",
    "azdias_main['WOHNLAGE'] = azdias_main['WOHNLAGE'].apply(lambda x: np.nan if (x == 7 or x ==8) else x )\n",
    "\n",
    "### Run this to create final clustering model"
   ]
  },
  {
   "cell_type": "code",
   "execution_count": 33,
   "metadata": {},
   "outputs": [
    {
     "data": {
      "text/html": [
       "<div>\n",
       "<style>\n",
       "    .dataframe thead tr:only-child th {\n",
       "        text-align: right;\n",
       "    }\n",
       "\n",
       "    .dataframe thead th {\n",
       "        text-align: left;\n",
       "    }\n",
       "\n",
       "    .dataframe tbody tr th {\n",
       "        vertical-align: top;\n",
       "    }\n",
       "</style>\n",
       "<table border=\"1\" class=\"dataframe\">\n",
       "  <thead>\n",
       "    <tr style=\"text-align: right;\">\n",
       "      <th></th>\n",
       "      <th>attribute</th>\n",
       "      <th>information_level</th>\n",
       "      <th>type</th>\n",
       "      <th>missing_or_unknown</th>\n",
       "    </tr>\n",
       "  </thead>\n",
       "  <tbody>\n",
       "    <tr>\n",
       "      <th>15</th>\n",
       "      <td>LP_LEBENSPHASE_FEIN</td>\n",
       "      <td>person</td>\n",
       "      <td>mixed</td>\n",
       "      <td>[0]</td>\n",
       "    </tr>\n",
       "    <tr>\n",
       "      <th>16</th>\n",
       "      <td>LP_LEBENSPHASE_GROB</td>\n",
       "      <td>person</td>\n",
       "      <td>mixed</td>\n",
       "      <td>[0]</td>\n",
       "    </tr>\n",
       "    <tr>\n",
       "      <th>22</th>\n",
       "      <td>PRAEGENDE_JUGENDJAHRE</td>\n",
       "      <td>person</td>\n",
       "      <td>mixed</td>\n",
       "      <td>[-1,0]</td>\n",
       "    </tr>\n",
       "    <tr>\n",
       "      <th>56</th>\n",
       "      <td>WOHNLAGE</td>\n",
       "      <td>building</td>\n",
       "      <td>mixed</td>\n",
       "      <td>[-1]</td>\n",
       "    </tr>\n",
       "    <tr>\n",
       "      <th>59</th>\n",
       "      <td>CAMEO_INTL_2015</td>\n",
       "      <td>microcell_rr4</td>\n",
       "      <td>mixed</td>\n",
       "      <td>[-1,XX]</td>\n",
       "    </tr>\n",
       "    <tr>\n",
       "      <th>64</th>\n",
       "      <td>KBA05_BAUMAX</td>\n",
       "      <td>microcell_rr3</td>\n",
       "      <td>mixed</td>\n",
       "      <td>[-1,0]</td>\n",
       "    </tr>\n",
       "    <tr>\n",
       "      <th>79</th>\n",
       "      <td>PLZ8_BAUMAX</td>\n",
       "      <td>macrocell_plz8</td>\n",
       "      <td>mixed</td>\n",
       "      <td>[-1,0]</td>\n",
       "    </tr>\n",
       "  </tbody>\n",
       "</table>\n",
       "</div>"
      ],
      "text/plain": [
       "                attribute information_level   type missing_or_unknown\n",
       "15    LP_LEBENSPHASE_FEIN            person  mixed                [0]\n",
       "16    LP_LEBENSPHASE_GROB            person  mixed                [0]\n",
       "22  PRAEGENDE_JUGENDJAHRE            person  mixed             [-1,0]\n",
       "56               WOHNLAGE          building  mixed               [-1]\n",
       "59        CAMEO_INTL_2015     microcell_rr4  mixed            [-1,XX]\n",
       "64           KBA05_BAUMAX     microcell_rr3  mixed             [-1,0]\n",
       "79            PLZ8_BAUMAX    macrocell_plz8  mixed             [-1,0]"
      ]
     },
     "execution_count": 33,
     "metadata": {},
     "output_type": "execute_result"
    }
   ],
   "source": [
    "feat_info[feat_info['type'] == 'mixed']"
   ]
  },
  {
   "cell_type": "markdown",
   "metadata": {},
   "source": [
    "#### Discussion 1.2.2: Engineer Mixed-Type Features\n",
    "\n",
    "I have decided to drop the attributes 'LP_LEBENSPHASE_FEIN' and 'LP_LEBENSPHASE_GROB' -- an inspection of the data dictionary shows that values of these attributes is already captured in 'CAMEO_INTL_2015_wealth'.\n",
    "\n",
    "I have replaced 7 and 8 in WOHNLAGE with np.nan."
   ]
  },
  {
   "cell_type": "markdown",
   "metadata": {},
   "source": [
    "#### Step 1.2.3: Complete Feature Selection\n",
    "\n",
    "In order to finish this step up, you need to make sure that your data frame now only has the columns that you want to keep. To summarize, the dataframe should consist of the following:\n",
    "- All numeric, interval, and ordinal type columns from the original dataset.\n",
    "- Binary categorical features (all numerically-encoded).\n",
    "- Engineered features from other multi-level categorical features and mixed features.\n",
    "\n",
    "Make sure that for any new columns that you have engineered, that you've excluded the original columns from the final dataset. Otherwise, their values will interfere with the analysis later on the project. For example, you should not keep \"PRAEGENDE_JUGENDJAHRE\", since its values won't be useful for the algorithm: only the values derived from it in the engineered features you created should be retained. As a reminder, your data should only be from **the subset with few or no missing values**."
   ]
  },
  {
   "cell_type": "code",
   "execution_count": 11,
   "metadata": {},
   "outputs": [],
   "source": [
    "# Do whatever you need to in order to ensure that the dataframe only contains\n",
    "# the columns that should be passed to the algorithm functions.\n",
    "\n",
    "azdias_final = azdias_main.copy()\n",
    "cols_to_drop = ['LP_LEBENSPHASE_FEIN', 'LP_LEBENSPHASE_GROB', 'CAMEO_INTL_2015', 'PRAEGENDE_JUGENDJAHRE', \n",
    "                'CAMEO_DEUG_2015', 'LP_STATUS_GROB', 'LP_FAMILIE_GROB', 'OST_WEST_KZ',                  \n",
    "                'TITEL_KZ', 'KK_KUNDENTYP', 'KBA05_BAUMAX', 'missingVals', 'population',\n",
    "               'AGER_TYP', 'GEBURTSJAHR', 'ALTER_HH']\n",
    "               \n",
    "\n",
    "'''\n",
    "'CJT_GESAMTTYP', 'FINANZTYP', 'GFK_URLAUBERTYP', 'LP_FAMILIE_FEIN', 'LP_STATUS_FEIN', 'NATIONALITAET_KZ',\n",
    "'SHOPPER_TYP', 'ZABEOTYP', 'GEBAEUDETYP',  'CAMEO_DEU_2015',\n",
    "'''\n",
    "azdias_final.drop(cols_to_drop, axis=1, inplace=True)\n",
    "\n",
    "### Run this to create final clustering model"
   ]
  },
  {
   "cell_type": "code",
   "execution_count": 12,
   "metadata": {},
   "outputs": [
    {
     "name": "stdout",
     "output_type": "stream",
     "text": [
      "ALTERSKATEGORIE_GROB\n",
      "ANREDE_KZ\n",
      "FINANZ_MINIMALIST\n",
      "FINANZ_SPARER\n",
      "FINANZ_VORSORGER\n",
      "FINANZ_ANLEGER\n",
      "FINANZ_UNAUFFAELLIGER\n",
      "FINANZ_HAUSBAUER\n",
      "GREEN_AVANTGARDE\n",
      "HEALTH_TYP\n",
      "RETOURTYP_BK_S\n",
      "SEMIO_SOZ\n",
      "SEMIO_FAM\n",
      "SEMIO_REL\n",
      "SEMIO_MAT\n",
      "SEMIO_VERT\n",
      "SEMIO_LUST\n",
      "SEMIO_ERL\n",
      "SEMIO_KULT\n",
      "SEMIO_RAT\n",
      "SEMIO_KRIT\n",
      "SEMIO_DOM\n",
      "SEMIO_KAEM\n",
      "SEMIO_PFLICHT\n",
      "SEMIO_TRADV\n",
      "SOHO_KZ\n",
      "VERS_TYP\n",
      "ANZ_PERSONEN\n",
      "ANZ_TITEL\n",
      "HH_EINKOMMEN_SCORE\n",
      "W_KEIT_KIND_HH\n",
      "WOHNDAUER_2008\n",
      "ANZ_HAUSHALTE_AKTIV\n",
      "ANZ_HH_TITEL\n",
      "KONSUMNAEHE\n",
      "MIN_GEBAEUDEJAHR\n",
      "WOHNLAGE\n",
      "KBA05_ANTG1\n",
      "KBA05_ANTG2\n",
      "KBA05_ANTG3\n",
      "KBA05_ANTG4\n",
      "KBA05_GBZ\n",
      "BALLRAUM\n",
      "EWDICHTE\n",
      "INNENSTADT\n",
      "GEBAEUDETYP_RASTER\n",
      "KKK\n",
      "MOBI_REGIO\n",
      "ONLINE_AFFINITAET\n",
      "REGIOTYP\n",
      "KBA13_ANZAHL_PKW\n",
      "PLZ8_ANTG1\n",
      "PLZ8_ANTG2\n",
      "PLZ8_ANTG3\n",
      "PLZ8_ANTG4\n",
      "PLZ8_BAUMAX\n",
      "PLZ8_HHZ\n",
      "PLZ8_GBZ\n",
      "ARBEIT\n",
      "ORTSGR_KLS9\n",
      "RELAT_AB\n",
      "num_OST_WEST_KZ\n",
      "CJT_GESAMTTYP_1.0\n",
      "CJT_GESAMTTYP_2.0\n",
      "CJT_GESAMTTYP_3.0\n",
      "CJT_GESAMTTYP_4.0\n",
      "CJT_GESAMTTYP_5.0\n",
      "CJT_GESAMTTYP_6.0\n",
      "FINANZTYP_1\n",
      "FINANZTYP_2\n",
      "FINANZTYP_3\n",
      "FINANZTYP_4\n",
      "FINANZTYP_5\n",
      "FINANZTYP_6\n",
      "GFK_URLAUBERTYP_1.0\n",
      "GFK_URLAUBERTYP_2.0\n",
      "GFK_URLAUBERTYP_3.0\n",
      "GFK_URLAUBERTYP_4.0\n",
      "GFK_URLAUBERTYP_5.0\n",
      "GFK_URLAUBERTYP_6.0\n",
      "GFK_URLAUBERTYP_7.0\n",
      "GFK_URLAUBERTYP_8.0\n",
      "GFK_URLAUBERTYP_9.0\n",
      "GFK_URLAUBERTYP_10.0\n",
      "GFK_URLAUBERTYP_11.0\n",
      "GFK_URLAUBERTYP_12.0\n",
      "LP_FAMILIE_FEIN_1.0\n",
      "LP_FAMILIE_FEIN_2.0\n",
      "LP_FAMILIE_FEIN_3.0\n",
      "LP_FAMILIE_FEIN_4.0\n",
      "LP_FAMILIE_FEIN_5.0\n",
      "LP_FAMILIE_FEIN_6.0\n",
      "LP_FAMILIE_FEIN_7.0\n",
      "LP_FAMILIE_FEIN_8.0\n",
      "LP_FAMILIE_FEIN_9.0\n",
      "LP_FAMILIE_FEIN_10.0\n",
      "LP_FAMILIE_FEIN_11.0\n",
      "LP_STATUS_FEIN_1.0\n",
      "LP_STATUS_FEIN_2.0\n",
      "LP_STATUS_FEIN_3.0\n",
      "LP_STATUS_FEIN_4.0\n",
      "LP_STATUS_FEIN_5.0\n",
      "LP_STATUS_FEIN_6.0\n",
      "LP_STATUS_FEIN_7.0\n",
      "LP_STATUS_FEIN_8.0\n",
      "LP_STATUS_FEIN_9.0\n",
      "LP_STATUS_FEIN_10.0\n",
      "NATIONALITAET_KZ_1.0\n",
      "NATIONALITAET_KZ_2.0\n",
      "NATIONALITAET_KZ_3.0\n",
      "SHOPPER_TYP_0.0\n",
      "SHOPPER_TYP_1.0\n",
      "SHOPPER_TYP_2.0\n",
      "SHOPPER_TYP_3.0\n",
      "ZABEOTYP_1\n",
      "ZABEOTYP_2\n",
      "ZABEOTYP_3\n",
      "ZABEOTYP_4\n",
      "ZABEOTYP_5\n",
      "ZABEOTYP_6\n",
      "GEBAEUDETYP_1.0\n",
      "GEBAEUDETYP_2.0\n",
      "GEBAEUDETYP_3.0\n",
      "GEBAEUDETYP_4.0\n",
      "GEBAEUDETYP_5.0\n",
      "GEBAEUDETYP_6.0\n",
      "GEBAEUDETYP_8.0\n",
      "CAMEO_DEU_2015_1A\n",
      "CAMEO_DEU_2015_1B\n",
      "CAMEO_DEU_2015_1C\n",
      "CAMEO_DEU_2015_1D\n",
      "CAMEO_DEU_2015_1E\n",
      "CAMEO_DEU_2015_2A\n",
      "CAMEO_DEU_2015_2B\n",
      "CAMEO_DEU_2015_2C\n",
      "CAMEO_DEU_2015_2D\n",
      "CAMEO_DEU_2015_3A\n",
      "CAMEO_DEU_2015_3B\n",
      "CAMEO_DEU_2015_3C\n",
      "CAMEO_DEU_2015_3D\n",
      "CAMEO_DEU_2015_4A\n",
      "CAMEO_DEU_2015_4B\n",
      "CAMEO_DEU_2015_4C\n",
      "CAMEO_DEU_2015_4D\n",
      "CAMEO_DEU_2015_4E\n",
      "CAMEO_DEU_2015_5A\n",
      "CAMEO_DEU_2015_5B\n",
      "CAMEO_DEU_2015_5C\n",
      "CAMEO_DEU_2015_5D\n",
      "CAMEO_DEU_2015_5E\n",
      "CAMEO_DEU_2015_5F\n",
      "CAMEO_DEU_2015_6A\n",
      "CAMEO_DEU_2015_6B\n",
      "CAMEO_DEU_2015_6C\n",
      "CAMEO_DEU_2015_6D\n",
      "CAMEO_DEU_2015_6E\n",
      "CAMEO_DEU_2015_6F\n",
      "CAMEO_DEU_2015_7A\n",
      "CAMEO_DEU_2015_7B\n",
      "CAMEO_DEU_2015_7C\n",
      "CAMEO_DEU_2015_7D\n",
      "CAMEO_DEU_2015_7E\n",
      "CAMEO_DEU_2015_8A\n",
      "CAMEO_DEU_2015_8B\n",
      "CAMEO_DEU_2015_8C\n",
      "CAMEO_DEU_2015_8D\n",
      "CAMEO_DEU_2015_9A\n",
      "CAMEO_DEU_2015_9B\n",
      "CAMEO_DEU_2015_9C\n",
      "CAMEO_DEU_2015_9D\n",
      "CAMEO_DEU_2015_9E\n",
      "PRAEGENDE_JUGENDJAHRE_decade\n",
      "PRAEGENDE_JUGENDJAHRE_mov\n",
      "CAMEO_INTL_2015_wealth\n",
      "CAMEO_INTL_2015_family\n"
     ]
    }
   ],
   "source": [
    "for col in azdias_final:\n",
    "    print(col)"
   ]
  },
  {
   "cell_type": "markdown",
   "metadata": {},
   "source": [
    "### Step 1.3: Create a Cleaning Function\n",
    "\n",
    "Even though you've finished cleaning up the general population demographics data, it's important to look ahead to the future and realize that you'll need to perform the same cleaning steps on the customer demographics data. In this substep, complete the function below to execute the main feature selection, encoding, and re-engineering steps you performed above. Then, when it comes to looking at the customer data in Step 3, you can just run this function on that DataFrame to get the trimmed dataset in a single step."
   ]
  },
  {
   "cell_type": "code",
   "execution_count": 13,
   "metadata": {},
   "outputs": [],
   "source": [
    "\"\"\"\n",
    "clean_data(df, inplace = False)\n",
    "\n",
    "Perform feature trimming, re-encoding, and engineering for demographics\n",
    "data\n",
    "\n",
    "INPUT: Demographics DataFrame, inplace = true cleans a frame in place; false returns a new, cleaned frame\n",
    "OUTPUT: Trimmed and cleaned demographics DataFrame\n",
    "\"\"\"\n",
    "def clean_data(df, inplace = False):\n",
    "    frame = df\n",
    "\n",
    "    #create a dictionary of missing value codes\n",
    "    #load the feature summary file\n",
    "    feat_info = pd.read_csv('AZDIAS_Feature_Summary.csv', sep=';')\n",
    "    \n",
    "    for index, row in feat_info.iterrows():\n",
    "        attrib_name = row['attribute']\n",
    "        data = frame[attrib_name]\n",
    "\n",
    "        if row['missing_or_unknown'] != '[]':\n",
    "            miss_codes = row['missing_or_unknown'][1:-1].split(',')\n",
    "        else:\n",
    "            miss_codes = []\n",
    "        if miss_codes:\n",
    "            #print(attrib_name + \" : \" + ','.join(miss_codes))\n",
    "            for code in miss_codes:\n",
    "                # try-except block to capture 'X' and 'XX' codes\n",
    "                try:\n",
    "                    data = data.replace([int(code)], np.nan)\n",
    "                except:\n",
    "                    data = data.replace([code], np.nan)\n",
    "\n",
    "        frame[attrib_name] = data\n",
    "\n",
    "    #drop the columns found to have excessive NaNs in the Azdias set\n",
    "    nan_cols = ['AGER_TYP', 'GEBURTSJAHR', 'TITEL_KZ', 'KK_KUNDENTYP', 'KBA05_BAUMAX', 'ALTER_HH']\n",
    "    frame.drop(nan_cols, axis=1)\n",
    "\n",
    "    #count the NaNs by row\n",
    "    frame['missingVals'] = frame.isnull().sum(axis=1)\n",
    "    frame['population'] = frame.apply(lambda row: row['missingVals'] < 12,axis=1)\n",
    "    frame_main = frame[frame[\"population\"] == True]\n",
    "    frame_outliers = frame[frame[\"population\"] == False]\n",
    "\n",
    "    #re-engineer 'OST_WEST_KZ'\n",
    "    frame_main['num_OST_WEST_KZ'] = frame_main['OST_WEST_KZ'].apply(lambda x: 1 if x == 'W' else 0)\n",
    "\n",
    "    #one-hot encode the following multi-level features\n",
    "    multi_level = [ 'CJT_GESAMTTYP', 'FINANZTYP', 'GFK_URLAUBERTYP', 'LP_FAMILIE_FEIN', 'LP_STATUS_FEIN',\n",
    "               'NATIONALITAET_KZ', 'SHOPPER_TYP', 'ZABEOTYP', 'GEBAEUDETYP',  'CAMEO_DEU_2015']\n",
    "    frame_main = pd.get_dummies(frame_main, columns = multi_level, prefix = multi_level)\n",
    "\n",
    "    #re-engineer 'PRAEGENDE_JUGENDJAHRE'\n",
    "    ###Decade\n",
    "    '''\n",
    "    1 = 40s\n",
    "    2 = 50s\n",
    "    3 = 60s\n",
    "    4 = 70s\n",
    "    5 = 80s\n",
    "    6 = 90s\n",
    "    '''\n",
    "    decades = dict([(1,1), (2,1), (3,2), (4,2), (5,3), (6,3), (7,3), (8,4), (9,4), (10,5), (11,5), (12,5), (13,5), (14,6), (15,6)])\n",
    "\n",
    "    ###Movement type\n",
    "    '''\n",
    "    0 = Mainstream\n",
    "    1 = Avantgarde\n",
    "    '''\n",
    "    movements = dict([(1,0), (2,1), (3,0), (4,1), (5,0), (6,1), (7,1), (8,0), (9,1), (10,0), (11,1), (12,0), (13,1), (14,0), (15,1)])\n",
    "\n",
    "    frame_main['PRAEGENDE_JUGENDJAHRE_decade'] = frame_main['PRAEGENDE_JUGENDJAHRE'].map(decades)\n",
    "    frame_main['PRAEGENDE_JUGENDJAHRE_mov'] = frame_main['PRAEGENDE_JUGENDJAHRE'].map(movements)\n",
    "\n",
    "\n",
    "    # Re-rengineer 'CAMEO_INTL_2015' \n",
    "\n",
    "    ##Wealth\n",
    "    '''\n",
    "    1 = Wealthy Households\n",
    "    2 = Prosperous Households\n",
    "    3 = Comfortable Households\n",
    "    4 = Less Affluent Households\n",
    "    5 = Poorer Households\n",
    "    '''\n",
    "    ##Family type\n",
    "    '''\n",
    "    1 = Pre-Family Couples & Singles\n",
    "    2 = Young Couples With Children\n",
    "    3 = Families With School Age Children\n",
    "    4 = Older Families &  Mature Couples\n",
    "    5 = Wealthy Households - Elders In Retirement\n",
    "    '''\n",
    "    frame_main['CAMEO_INTL_2015_wealth'] = frame_main['CAMEO_INTL_2015'].apply(lambda x: np.nan if pd.isnull(x) else divmod(int(x), 10)[1])\n",
    "    frame_main['CAMEO_INTL_2015_family'] = frame_main['CAMEO_INTL_2015'].apply(lambda x: np.nan if pd.isnull(x) else int(x) // 10)\n",
    "\n",
    "    frame_main['WOHNLAGE'] = frame_main['WOHNLAGE'].apply(lambda x: np.nan if (x == 7 or x ==8) else x )\n",
    "    \n",
    "    frame_final = frame_main.copy()\n",
    "    cols_to_drop = ['LP_LEBENSPHASE_FEIN', 'LP_LEBENSPHASE_GROB', 'CAMEO_INTL_2015', 'PRAEGENDE_JUGENDJAHRE', \n",
    "                'CAMEO_DEUG_2015', 'LP_STATUS_GROB', 'LP_FAMILIE_GROB', 'OST_WEST_KZ',                  \n",
    "                'TITEL_KZ', 'KK_KUNDENTYP', 'KBA05_BAUMAX', 'missingVals', 'population',\n",
    "               'AGER_TYP', 'GEBURTSJAHR', 'ALTER_HH']\n",
    "\n",
    "    frame_final.drop(cols_to_drop, axis=1, inplace=True)\n",
    "\n",
    "    frame = frame_final\n",
    "\n",
    "    if not inplace:\n",
    "        return frame\n",
    "    "
   ]
  },
  {
   "cell_type": "markdown",
   "metadata": {},
   "source": [
    "## Step 2: Feature Transformation\n",
    "\n",
    "### Step 2.1: Apply Feature Scaling\n",
    "\n",
    "Before we apply dimensionality reduction techniques to the data, we need to perform feature scaling so that the principal component vectors are not influenced by the natural differences in scale for features. Starting from this part of the project, you'll want to keep an eye on the [API reference page for sklearn](http://scikit-learn.org/stable/modules/classes.html) to help you navigate to all of the classes and functions that you'll need. In this substep, you'll need to check the following:\n",
    "\n",
    "- sklearn requires that data not have missing values in order for its estimators to work properly. So, before applying the scaler to your data, make sure that you've cleaned the DataFrame of the remaining missing values. This can be as simple as just removing all data points with missing data, or applying an [Imputer](http://scikit-learn.org/stable/modules/generated/sklearn.preprocessing.Imputer.html) to replace all missing values. You might also try a more complicated procedure where you temporarily remove missing values in order to compute the scaling parameters before re-introducing those missing values and applying imputation. Think about how much missing data you have and what possible effects each approach might have on your analysis, and justify your decision in the discussion section below.\n",
    "- For the actual scaling function, a [StandardScaler](http://scikit-learn.org/stable/modules/generated/sklearn.preprocessing.StandardScaler.html) instance is suggested, scaling each feature to mean 0 and standard deviation 1.\n",
    "- For these classes, you can make use of the `.fit_transform()` method to both fit a procedure to the data as well as apply the transformation to the data at the same time. Don't forget to keep the fit sklearn objects handy, since you'll be applying them to the customer demographics data towards the end of the project."
   ]
  },
  {
   "cell_type": "code",
   "execution_count": 14,
   "metadata": {},
   "outputs": [],
   "source": [
    "# If you've not yet cleaned the dataset of all NaN values, then investigate and\n",
    "# do that now.\n",
    "imputer = pp.Imputer(missing_values=np.nan, axis=0)\n",
    "\n",
    "#keep a copy in a dataframe\n",
    "azdias_final2 = azdias_final.copy()\n",
    "azdias_final = imputer.fit_transform(azdias_final)\n",
    "\n",
    "### Run this to create final clustering model"
   ]
  },
  {
   "cell_type": "code",
   "execution_count": 15,
   "metadata": {},
   "outputs": [],
   "source": [
    "# Apply feature scaling to the general population demographics data.\n",
    "scaler = pp.StandardScaler()\n",
    "azdias_final = scaler.fit_transform(azdias_final)\n",
    "\n",
    "### Run this to create final clustering model"
   ]
  },
  {
   "cell_type": "markdown",
   "metadata": {},
   "source": [
    "### Discussion 2.1: Apply Feature Scaling\n",
    "\n",
    "I have used the sklearn StandardScaler class to remove the mean of all features, and to set the variance to unity.\n",
    "The purpose of the feature scaling is to avoid situations where one feature has an abnormally large range of values.\n",
    "If this occurs, distance calculations will weight the large-ranged feature ofver others and disrtort the clustering.\n"
   ]
  },
  {
   "cell_type": "markdown",
   "metadata": {},
   "source": [
    "### Step 2.2: Perform Dimensionality Reduction\n",
    "\n",
    "On your scaled data, you are now ready to apply dimensionality reduction techniques.\n",
    "\n",
    "- Use sklearn's [PCA](http://scikit-learn.org/stable/modules/generated/sklearn.decomposition.PCA.html) class to apply principal component analysis on the data, thus finding the vectors of maximal variance in the data. To start, you should not set any parameters (so all components are computed) or set a number of components that is at least half the number of features (so there's enough features to see the general trend in variability).\n",
    "- Check out the ratio of variance explained by each principal component as well as the cumulative variance explained. Try plotting the cumulative or sequential values using matplotlib's [`plot()`](https://matplotlib.org/api/_as_gen/matplotlib.pyplot.plot.html) function. Based on what you find, select a value for the number of transformed features you'll retain for the clustering part of the project.\n",
    "- Once you've made a choice for the number of components to keep, make sure you re-fit a PCA instance to perform the decided-on transformation."
   ]
  },
  {
   "cell_type": "code",
   "execution_count": 16,
   "metadata": {},
   "outputs": [],
   "source": [
    "# Apply PCA to the data.\n",
    "pca = PCA(n_components=None)\n",
    "azdias_pca = pca.fit(azdias_final)"
   ]
  },
  {
   "cell_type": "code",
   "execution_count": 17,
   "metadata": {},
   "outputs": [
    {
     "data": {
      "text/plain": [
       "[<matplotlib.lines.Line2D at 0x7fdcfef823c8>]"
      ]
     },
     "execution_count": 17,
     "metadata": {},
     "output_type": "execute_result"
    },
    {
     "data": {
      "image/png": "[encoded data removed]",
      "text/plain": [
       "<matplotlib.figure.Figure at 0x7fdcfeeeeef0>"
      ]
     },
     "metadata": {
      "needs_background": "light"
     },
     "output_type": "display_data"
    }
   ],
   "source": [
    "# Investigate the variance accounted for by each principal component.\n",
    "\n",
    "evr_sum = 0\n",
    "evr_curve = []\n",
    "for i in azdias_pca.explained_variance_ratio_:\n",
    "    evr_sum = evr_sum + i\n",
    "    evr_curve.append(evr_sum)\n",
    "plt.title('Plot 19: Cumulative sum of total variance by PCA component count')    \n",
    "plt.plot(evr_curve)\n"
   ]
  },
  {
   "cell_type": "markdown",
   "metadata": {},
   "source": [
    "### Discussion on Principal Components\n",
    "\n",
    "Visually inspecting the curve, there appears to be steady information gain until around 125 or so principal components.  After this, the curve is quite flat.  This corresponds to ~90% or the EVR.  I will cut the number of principal components off at 90% of the EVR as determined below:"
   ]
  },
  {
   "cell_type": "code",
   "execution_count": 18,
   "metadata": {},
   "outputs": [
    {
     "name": "stdout",
     "output_type": "stream",
     "text": [
      "90% of EVR is contained in the first 108 principal components\n"
     ]
    }
   ],
   "source": [
    "evr_sum2 = 0\n",
    "evr_index = 0\n",
    "for i in azdias_pca.explained_variance_ratio_:\n",
    "    evr_sum2 = evr_sum2 + i\n",
    "    evr_index = evr_index + 1\n",
    "    if evr_sum2 > 0.9:\n",
    "        break\n",
    "\n",
    "print(\"90% of EVR is contained in the first \" + str(evr_index) + \" principal components\")"
   ]
  },
  {
   "cell_type": "markdown",
   "metadata": {},
   "source": [
    "For this reason, I am selecting 108 principal components."
   ]
  },
  {
   "cell_type": "code",
   "execution_count": 19,
   "metadata": {},
   "outputs": [],
   "source": [
    "# Re-apply PCA to the data while selecting for number of components to retain.\n",
    "\n",
    "pca = PCA(n_components=108)\n",
    "\n",
    "azdias_tran = pca.fit_transform(azdias_final)\n",
    "azdias_pca = pca.fit(azdias_final)\n",
    "### Run this to create final clustering model"
   ]
  },
  {
   "cell_type": "markdown",
   "metadata": {},
   "source": [
    "### Discussion 2.2: Perform Dimensionality Reduction\n",
    "\n",
    "I have completed dimensionality reduction and chosen a value of 108 principal components, in order to preserve 90% of the EVR from the original data set."
   ]
  },
  {
   "cell_type": "markdown",
   "metadata": {},
   "source": [
    "### Step 2.3: Interpret Principal Components\n",
    "\n",
    "Now that we have our transformed principal components, it's a nice idea to check out the weight of each variable on the first few components to see if they can be interpreted in some fashion.\n",
    "\n",
    "As a reminder, each principal component is a unit vector that points in the direction of highest variance (after accounting for the variance captured by earlier principal components). The further a weight is from zero, the more the principal component is in the direction of the corresponding feature. If two features have large weights of the same sign (both positive or both negative), then increases in one tend expect to be associated with increases in the other. To contrast, features with different signs can be expected to show a negative correlation: increases in one variable should result in a decrease in the other.\n",
    "\n",
    "- To investigate the features, you should map each weight to their corresponding feature name, then sort the features according to weight. The most interesting features for each principal component, then, will be those at the beginning and end of the sorted list. Use the data dictionary document to help you understand these most prominent features, their relationships, and what a positive or negative value on the principal component might indicate.\n",
    "- You should investigate and interpret feature associations from the first three principal components in this substep. To help facilitate this, you should write a function that you can call at any time to print the sorted list of feature weights, for the *i*-th principal component. This might come in handy in the next step of the project, when you interpret the tendencies of the discovered clusters."
   ]
  },
  {
   "cell_type": "code",
   "execution_count": 20,
   "metadata": {},
   "outputs": [
    {
     "data": {
      "text/plain": [
       "['ALTERSKATEGORIE_GROB',\n",
       " 'ANREDE_KZ',\n",
       " 'FINANZ_MINIMALIST',\n",
       " 'FINANZ_SPARER',\n",
       " 'FINANZ_VORSORGER',\n",
       " 'FINANZ_ANLEGER',\n",
       " 'FINANZ_UNAUFFAELLIGER',\n",
       " 'FINANZ_HAUSBAUER',\n",
       " 'GREEN_AVANTGARDE',\n",
       " 'HEALTH_TYP',\n",
       " 'RETOURTYP_BK_S',\n",
       " 'SEMIO_SOZ',\n",
       " 'SEMIO_FAM',\n",
       " 'SEMIO_REL',\n",
       " 'SEMIO_MAT',\n",
       " 'SEMIO_VERT',\n",
       " 'SEMIO_LUST',\n",
       " 'SEMIO_ERL',\n",
       " 'SEMIO_KULT',\n",
       " 'SEMIO_RAT',\n",
       " 'SEMIO_KRIT',\n",
       " 'SEMIO_DOM',\n",
       " 'SEMIO_KAEM',\n",
       " 'SEMIO_PFLICHT',\n",
       " 'SEMIO_TRADV',\n",
       " 'SOHO_KZ',\n",
       " 'VERS_TYP',\n",
       " 'ANZ_PERSONEN',\n",
       " 'ANZ_TITEL',\n",
       " 'HH_EINKOMMEN_SCORE',\n",
       " 'W_KEIT_KIND_HH',\n",
       " 'WOHNDAUER_2008',\n",
       " 'ANZ_HAUSHALTE_AKTIV',\n",
       " 'ANZ_HH_TITEL',\n",
       " 'KONSUMNAEHE',\n",
       " 'MIN_GEBAEUDEJAHR',\n",
       " 'WOHNLAGE',\n",
       " 'KBA05_ANTG1',\n",
       " 'KBA05_ANTG2',\n",
       " 'KBA05_ANTG3',\n",
       " 'KBA05_ANTG4',\n",
       " 'KBA05_GBZ',\n",
       " 'BALLRAUM',\n",
       " 'EWDICHTE',\n",
       " 'INNENSTADT',\n",
       " 'GEBAEUDETYP_RASTER',\n",
       " 'KKK',\n",
       " 'MOBI_REGIO',\n",
       " 'ONLINE_AFFINITAET',\n",
       " 'REGIOTYP',\n",
       " 'KBA13_ANZAHL_PKW',\n",
       " 'PLZ8_ANTG1',\n",
       " 'PLZ8_ANTG2',\n",
       " 'PLZ8_ANTG3',\n",
       " 'PLZ8_ANTG4',\n",
       " 'PLZ8_BAUMAX',\n",
       " 'PLZ8_HHZ',\n",
       " 'PLZ8_GBZ',\n",
       " 'ARBEIT',\n",
       " 'ORTSGR_KLS9',\n",
       " 'RELAT_AB',\n",
       " 'num_OST_WEST_KZ',\n",
       " 'CJT_GESAMTTYP_1.0',\n",
       " 'CJT_GESAMTTYP_2.0',\n",
       " 'CJT_GESAMTTYP_3.0',\n",
       " 'CJT_GESAMTTYP_4.0',\n",
       " 'CJT_GESAMTTYP_5.0',\n",
       " 'CJT_GESAMTTYP_6.0',\n",
       " 'FINANZTYP_1',\n",
       " 'FINANZTYP_2',\n",
       " 'FINANZTYP_3',\n",
       " 'FINANZTYP_4',\n",
       " 'FINANZTYP_5',\n",
       " 'FINANZTYP_6',\n",
       " 'GFK_URLAUBERTYP_1.0',\n",
       " 'GFK_URLAUBERTYP_2.0',\n",
       " 'GFK_URLAUBERTYP_3.0',\n",
       " 'GFK_URLAUBERTYP_4.0',\n",
       " 'GFK_URLAUBERTYP_5.0',\n",
       " 'GFK_URLAUBERTYP_6.0',\n",
       " 'GFK_URLAUBERTYP_7.0',\n",
       " 'GFK_URLAUBERTYP_8.0',\n",
       " 'GFK_URLAUBERTYP_9.0',\n",
       " 'GFK_URLAUBERTYP_10.0',\n",
       " 'GFK_URLAUBERTYP_11.0',\n",
       " 'GFK_URLAUBERTYP_12.0',\n",
       " 'LP_FAMILIE_FEIN_1.0',\n",
       " 'LP_FAMILIE_FEIN_2.0',\n",
       " 'LP_FAMILIE_FEIN_3.0',\n",
       " 'LP_FAMILIE_FEIN_4.0',\n",
       " 'LP_FAMILIE_FEIN_5.0',\n",
       " 'LP_FAMILIE_FEIN_6.0',\n",
       " 'LP_FAMILIE_FEIN_7.0',\n",
       " 'LP_FAMILIE_FEIN_8.0',\n",
       " 'LP_FAMILIE_FEIN_9.0',\n",
       " 'LP_FAMILIE_FEIN_10.0',\n",
       " 'LP_FAMILIE_FEIN_11.0',\n",
       " 'LP_STATUS_FEIN_1.0',\n",
       " 'LP_STATUS_FEIN_2.0',\n",
       " 'LP_STATUS_FEIN_3.0',\n",
       " 'LP_STATUS_FEIN_4.0',\n",
       " 'LP_STATUS_FEIN_5.0',\n",
       " 'LP_STATUS_FEIN_6.0',\n",
       " 'LP_STATUS_FEIN_7.0',\n",
       " 'LP_STATUS_FEIN_8.0',\n",
       " 'LP_STATUS_FEIN_9.0',\n",
       " 'LP_STATUS_FEIN_10.0',\n",
       " 'NATIONALITAET_KZ_1.0',\n",
       " 'NATIONALITAET_KZ_2.0',\n",
       " 'NATIONALITAET_KZ_3.0',\n",
       " 'SHOPPER_TYP_0.0',\n",
       " 'SHOPPER_TYP_1.0',\n",
       " 'SHOPPER_TYP_2.0',\n",
       " 'SHOPPER_TYP_3.0',\n",
       " 'ZABEOTYP_1',\n",
       " 'ZABEOTYP_2',\n",
       " 'ZABEOTYP_3',\n",
       " 'ZABEOTYP_4',\n",
       " 'ZABEOTYP_5',\n",
       " 'ZABEOTYP_6',\n",
       " 'GEBAEUDETYP_1.0',\n",
       " 'GEBAEUDETYP_2.0',\n",
       " 'GEBAEUDETYP_3.0',\n",
       " 'GEBAEUDETYP_4.0',\n",
       " 'GEBAEUDETYP_5.0',\n",
       " 'GEBAEUDETYP_6.0',\n",
       " 'GEBAEUDETYP_8.0',\n",
       " 'CAMEO_DEU_2015_1A',\n",
       " 'CAMEO_DEU_2015_1B',\n",
       " 'CAMEO_DEU_2015_1C',\n",
       " 'CAMEO_DEU_2015_1D',\n",
       " 'CAMEO_DEU_2015_1E',\n",
       " 'CAMEO_DEU_2015_2A',\n",
       " 'CAMEO_DEU_2015_2B',\n",
       " 'CAMEO_DEU_2015_2C',\n",
       " 'CAMEO_DEU_2015_2D',\n",
       " 'CAMEO_DEU_2015_3A',\n",
       " 'CAMEO_DEU_2015_3B',\n",
       " 'CAMEO_DEU_2015_3C',\n",
       " 'CAMEO_DEU_2015_3D',\n",
       " 'CAMEO_DEU_2015_4A',\n",
       " 'CAMEO_DEU_2015_4B',\n",
       " 'CAMEO_DEU_2015_4C',\n",
       " 'CAMEO_DEU_2015_4D',\n",
       " 'CAMEO_DEU_2015_4E',\n",
       " 'CAMEO_DEU_2015_5A',\n",
       " 'CAMEO_DEU_2015_5B',\n",
       " 'CAMEO_DEU_2015_5C',\n",
       " 'CAMEO_DEU_2015_5D',\n",
       " 'CAMEO_DEU_2015_5E',\n",
       " 'CAMEO_DEU_2015_5F',\n",
       " 'CAMEO_DEU_2015_6A',\n",
       " 'CAMEO_DEU_2015_6B',\n",
       " 'CAMEO_DEU_2015_6C',\n",
       " 'CAMEO_DEU_2015_6D',\n",
       " 'CAMEO_DEU_2015_6E',\n",
       " 'CAMEO_DEU_2015_6F',\n",
       " 'CAMEO_DEU_2015_7A',\n",
       " 'CAMEO_DEU_2015_7B',\n",
       " 'CAMEO_DEU_2015_7C',\n",
       " 'CAMEO_DEU_2015_7D',\n",
       " 'CAMEO_DEU_2015_7E',\n",
       " 'CAMEO_DEU_2015_8A',\n",
       " 'CAMEO_DEU_2015_8B',\n",
       " 'CAMEO_DEU_2015_8C',\n",
       " 'CAMEO_DEU_2015_8D',\n",
       " 'CAMEO_DEU_2015_9A',\n",
       " 'CAMEO_DEU_2015_9B',\n",
       " 'CAMEO_DEU_2015_9C',\n",
       " 'CAMEO_DEU_2015_9D',\n",
       " 'CAMEO_DEU_2015_9E',\n",
       " 'PRAEGENDE_JUGENDJAHRE_decade',\n",
       " 'PRAEGENDE_JUGENDJAHRE_mov',\n",
       " 'CAMEO_INTL_2015_wealth',\n",
       " 'CAMEO_INTL_2015_family']"
      ]
     },
     "execution_count": 20,
     "metadata": {},
     "output_type": "execute_result"
    }
   ],
   "source": [
    "azdias_final_col_labels = list(azdias_final2.columns.values)\n",
    "azdias_final_col_labels"
   ]
  },
  {
   "cell_type": "code",
   "execution_count": 21,
   "metadata": {},
   "outputs": [],
   "source": [
    "'''\n",
    "component_weights(pca, component_index):\n",
    "returns a dataframe containing the column and projection of that principal component onto that column\n",
    "the component index is zero-based\n",
    "the dataframe is sorted according to absolute value, and therefore ranks according to correlation (whether positive or negative)\n",
    "'''\n",
    "def component_weights(pca, component_index):\n",
    "    weights = pd.DataFrame(pca.components_[component_index], index = azdias_final2.columns)\n",
    "    weights['abs'] = abs(weights[0])\n",
    "    weights.sort_values('abs', inplace= True, ascending=False)\n",
    "    return weights.iloc[0:10, 0:1]\n",
    "\n",
    "## Run this to enable analysis\n",
    "    \n"
   ]
  },
  {
   "cell_type": "code",
   "execution_count": 22,
   "metadata": {},
   "outputs": [
    {
     "data": {
      "text/html": [
       "<div>\n",
       "<style>\n",
       "    .dataframe thead tr:only-child th {\n",
       "        text-align: right;\n",
       "    }\n",
       "\n",
       "    .dataframe thead th {\n",
       "        text-align: left;\n",
       "    }\n",
       "\n",
       "    .dataframe tbody tr th {\n",
       "        vertical-align: top;\n",
       "    }\n",
       "</style>\n",
       "<table border=\"1\" class=\"dataframe\">\n",
       "  <thead>\n",
       "    <tr style=\"text-align: right;\">\n",
       "      <th></th>\n",
       "      <th>0</th>\n",
       "    </tr>\n",
       "  </thead>\n",
       "  <tbody>\n",
       "    <tr>\n",
       "      <th>MOBI_REGIO</th>\n",
       "      <td>-0.209920</td>\n",
       "    </tr>\n",
       "    <tr>\n",
       "      <th>FINANZ_MINIMALIST</th>\n",
       "      <td>-0.200107</td>\n",
       "    </tr>\n",
       "    <tr>\n",
       "      <th>KBA05_ANTG1</th>\n",
       "      <td>-0.196197</td>\n",
       "    </tr>\n",
       "    <tr>\n",
       "      <th>PLZ8_ANTG1</th>\n",
       "      <td>-0.192882</td>\n",
       "    </tr>\n",
       "    <tr>\n",
       "      <th>PLZ8_ANTG3</th>\n",
       "      <td>0.191278</td>\n",
       "    </tr>\n",
       "    <tr>\n",
       "      <th>PLZ8_ANTG4</th>\n",
       "      <td>0.187047</td>\n",
       "    </tr>\n",
       "    <tr>\n",
       "      <th>KBA05_GBZ</th>\n",
       "      <td>-0.186443</td>\n",
       "    </tr>\n",
       "    <tr>\n",
       "      <th>HH_EINKOMMEN_SCORE</th>\n",
       "      <td>0.185303</td>\n",
       "    </tr>\n",
       "    <tr>\n",
       "      <th>CAMEO_INTL_2015_family</th>\n",
       "      <td>0.184495</td>\n",
       "    </tr>\n",
       "    <tr>\n",
       "      <th>PLZ8_BAUMAX</th>\n",
       "      <td>0.184064</td>\n",
       "    </tr>\n",
       "  </tbody>\n",
       "</table>\n",
       "</div>"
      ],
      "text/plain": [
       "                               0\n",
       "MOBI_REGIO             -0.209920\n",
       "FINANZ_MINIMALIST      -0.200107\n",
       "KBA05_ANTG1            -0.196197\n",
       "PLZ8_ANTG1             -0.192882\n",
       "PLZ8_ANTG3              0.191278\n",
       "PLZ8_ANTG4              0.187047\n",
       "KBA05_GBZ              -0.186443\n",
       "HH_EINKOMMEN_SCORE      0.185303\n",
       "CAMEO_INTL_2015_family  0.184495\n",
       "PLZ8_BAUMAX             0.184064"
      ]
     },
     "execution_count": 22,
     "metadata": {},
     "output_type": "execute_result"
    }
   ],
   "source": [
    "# Map weights for the first principal component to corresponding feature names\n",
    "# and then print the linked values, sorted by weight.\n",
    "# HINT: Try defining a function here or in a new cell that you can reuse in the\n",
    "# other cells.\n",
    "\n",
    "cw1 = component_weights(azdias_pca, 0)\n",
    "cw1\n"
   ]
  },
  {
   "cell_type": "code",
   "execution_count": 23,
   "metadata": {},
   "outputs": [
    {
     "data": {
      "text/html": [
       "<div>\n",
       "<style>\n",
       "    .dataframe thead tr:only-child th {\n",
       "        text-align: right;\n",
       "    }\n",
       "\n",
       "    .dataframe thead th {\n",
       "        text-align: left;\n",
       "    }\n",
       "\n",
       "    .dataframe tbody tr th {\n",
       "        vertical-align: top;\n",
       "    }\n",
       "</style>\n",
       "<table border=\"1\" class=\"dataframe\">\n",
       "  <thead>\n",
       "    <tr style=\"text-align: right;\">\n",
       "      <th></th>\n",
       "      <th>0</th>\n",
       "    </tr>\n",
       "  </thead>\n",
       "  <tbody>\n",
       "    <tr>\n",
       "      <th>PRAEGENDE_JUGENDJAHRE_decade</th>\n",
       "      <td>-0.229799</td>\n",
       "    </tr>\n",
       "    <tr>\n",
       "      <th>ALTERSKATEGORIE_GROB</th>\n",
       "      <td>0.225836</td>\n",
       "    </tr>\n",
       "    <tr>\n",
       "      <th>FINANZ_SPARER</th>\n",
       "      <td>-0.217701</td>\n",
       "    </tr>\n",
       "    <tr>\n",
       "      <th>SEMIO_REL</th>\n",
       "      <td>-0.211450</td>\n",
       "    </tr>\n",
       "    <tr>\n",
       "      <th>FINANZ_UNAUFFAELLIGER</th>\n",
       "      <td>-0.210994</td>\n",
       "    </tr>\n",
       "    <tr>\n",
       "      <th>FINANZ_VORSORGER</th>\n",
       "      <td>0.210284</td>\n",
       "    </tr>\n",
       "    <tr>\n",
       "      <th>SEMIO_TRADV</th>\n",
       "      <td>-0.203926</td>\n",
       "    </tr>\n",
       "    <tr>\n",
       "      <th>SEMIO_PFLICHT</th>\n",
       "      <td>-0.200462</td>\n",
       "    </tr>\n",
       "    <tr>\n",
       "      <th>FINANZ_ANLEGER</th>\n",
       "      <td>-0.199992</td>\n",
       "    </tr>\n",
       "    <tr>\n",
       "      <th>ZABEOTYP_3</th>\n",
       "      <td>0.199909</td>\n",
       "    </tr>\n",
       "  </tbody>\n",
       "</table>\n",
       "</div>"
      ],
      "text/plain": [
       "                                     0\n",
       "PRAEGENDE_JUGENDJAHRE_decade -0.229799\n",
       "ALTERSKATEGORIE_GROB          0.225836\n",
       "FINANZ_SPARER                -0.217701\n",
       "SEMIO_REL                    -0.211450\n",
       "FINANZ_UNAUFFAELLIGER        -0.210994\n",
       "FINANZ_VORSORGER              0.210284\n",
       "SEMIO_TRADV                  -0.203926\n",
       "SEMIO_PFLICHT                -0.200462\n",
       "FINANZ_ANLEGER               -0.199992\n",
       "ZABEOTYP_3                    0.199909"
      ]
     },
     "execution_count": 23,
     "metadata": {},
     "output_type": "execute_result"
    }
   ],
   "source": [
    "# Map weights for the second principal component to corresponding feature names\n",
    "# and then print the linked values, sorted by weight.\n",
    "\n",
    "cw2 = component_weights(azdias_pca, 1)\n",
    "cw2\n"
   ]
  },
  {
   "cell_type": "code",
   "execution_count": 24,
   "metadata": {},
   "outputs": [
    {
     "data": {
      "text/html": [
       "<div>\n",
       "<style>\n",
       "    .dataframe thead tr:only-child th {\n",
       "        text-align: right;\n",
       "    }\n",
       "\n",
       "    .dataframe thead th {\n",
       "        text-align: left;\n",
       "    }\n",
       "\n",
       "    .dataframe tbody tr th {\n",
       "        vertical-align: top;\n",
       "    }\n",
       "</style>\n",
       "<table border=\"1\" class=\"dataframe\">\n",
       "  <thead>\n",
       "    <tr style=\"text-align: right;\">\n",
       "      <th></th>\n",
       "      <th>0</th>\n",
       "    </tr>\n",
       "  </thead>\n",
       "  <tbody>\n",
       "    <tr>\n",
       "      <th>ANREDE_KZ</th>\n",
       "      <td>-0.349719</td>\n",
       "    </tr>\n",
       "    <tr>\n",
       "      <th>SEMIO_VERT</th>\n",
       "      <td>0.324825</td>\n",
       "    </tr>\n",
       "    <tr>\n",
       "      <th>SEMIO_KAEM</th>\n",
       "      <td>-0.321618</td>\n",
       "    </tr>\n",
       "    <tr>\n",
       "      <th>SEMIO_DOM</th>\n",
       "      <td>-0.289479</td>\n",
       "    </tr>\n",
       "    <tr>\n",
       "      <th>SEMIO_KRIT</th>\n",
       "      <td>-0.266514</td>\n",
       "    </tr>\n",
       "    <tr>\n",
       "      <th>SEMIO_FAM</th>\n",
       "      <td>0.261834</td>\n",
       "    </tr>\n",
       "    <tr>\n",
       "      <th>SEMIO_SOZ</th>\n",
       "      <td>0.257855</td>\n",
       "    </tr>\n",
       "    <tr>\n",
       "      <th>SEMIO_KULT</th>\n",
       "      <td>0.249620</td>\n",
       "    </tr>\n",
       "    <tr>\n",
       "      <th>SEMIO_ERL</th>\n",
       "      <td>-0.203455</td>\n",
       "    </tr>\n",
       "    <tr>\n",
       "      <th>SEMIO_RAT</th>\n",
       "      <td>-0.161479</td>\n",
       "    </tr>\n",
       "  </tbody>\n",
       "</table>\n",
       "</div>"
      ],
      "text/plain": [
       "                   0\n",
       "ANREDE_KZ  -0.349719\n",
       "SEMIO_VERT  0.324825\n",
       "SEMIO_KAEM -0.321618\n",
       "SEMIO_DOM  -0.289479\n",
       "SEMIO_KRIT -0.266514\n",
       "SEMIO_FAM   0.261834\n",
       "SEMIO_SOZ   0.257855\n",
       "SEMIO_KULT  0.249620\n",
       "SEMIO_ERL  -0.203455\n",
       "SEMIO_RAT  -0.161479"
      ]
     },
     "execution_count": 24,
     "metadata": {},
     "output_type": "execute_result"
    }
   ],
   "source": [
    "# Map weights for the third principal component to corresponding feature names\n",
    "# and then print the linked values, sorted by weight.\n",
    "\n",
    "cw3 = component_weights(azdias_pca, 2)\n",
    "cw3"
   ]
  },
  {
   "cell_type": "markdown",
   "metadata": {},
   "source": [
    "### Discussion 2.3: Interpret Principal Components\n",
    "\n",
    "I have presented the top 10 (by absolute value) wieghts in the first three components for discussion.  Consulting the data dictionary on what attributes are being grouped by the PCA, both postiively and negatively weighted.\n",
    "\n",
    "#### Principal Component 0:\n",
    "This component is giving a negative weight to the 'FINANZ_MINIMALIST' attribute, and to the 'MOBI_REGIO', 'KBA05_ANTG1', and 'KBA05_GBZ' attributes.  The 'PLZ8_ANTG3' and 'PLZ8_ANTG4' are positively weighted.  The PLZ8 features distinguish between multi-family dewllings in the neighborhood, and housing type; MOBI_REGIO discusses the 'mobility' in a neighborhood, and the KBA05 attribute measures building types in the 'microcell'.\n",
    "This component is clearly interestred in the person's neighborhood.\n",
    "\n",
    "#### Principal Component 1:\n",
    "Age is explcitly guessed by 'ALTERSKATEGORIE_GROB'.  All four of the 'FINANZ_xx' attributes measure the person's spending/saving habits.  'SEMIO_REL' and 'SEMIO_TRADV' measure the person's affinity for religion and traditional values.\n",
    "This principal component seems concerned with the person's age, financial risk, and conservativeness.\n",
    "\n",
    "#### Principal Component 2:\n",
    "This component weights 'ANREDE_KZ' (gender) and personality type, positively for dreamful, family-minded, socially-minded, cultural-minded; and negatively for combative attitude, dominant-minded, critical-minded, event-oriented, and rational.\n",
    "This component clearly distinguishes between male and female, as well as stereotypically male and female personality traits.\n",
    "\n",
    "Intuitively, the common themes of the attributes in these three principal components show that there is an underlying story in the data!\n",
    "\n",
    "Note: On review - after making revisions to the data cleaning requested by previous review, the principal components did not change appreciably (there were minor changes to some of the coefficients)\n"
   ]
  },
  {
   "cell_type": "markdown",
   "metadata": {},
   "source": [
    "## Step 3: Clustering\n",
    "\n",
    "### Step 3.1: Apply Clustering to General Population\n",
    "\n",
    "You've assessed and cleaned the demographics data, then scaled and transformed them. Now, it's time to see how the data clusters in the principal components space. In this substep, you will apply k-means clustering to the dataset and use the average within-cluster distances from each point to their assigned cluster's centroid to decide on a number of clusters to keep.\n",
    "\n",
    "- Use sklearn's [KMeans](http://scikit-learn.org/stable/modules/generated/sklearn.cluster.KMeans.html#sklearn.cluster.KMeans) class to perform k-means clustering on the PCA-transformed data.\n",
    "- Then, compute the average difference from each point to its assigned cluster's center. **Hint**: The KMeans object's `.score()` method might be useful here, but note that in sklearn, scores tend to be defined so that larger is better. Try applying it to a small, toy dataset, or use an internet search to help your understanding.\n",
    "- Perform the above two steps for a number of different cluster counts. You can then see how the average distance decreases with an increasing number of clusters. However, each additional cluster provides a smaller net benefit. Use this fact to select a final number of clusters in which to group the data. **Warning**: because of the large size of the dataset, it can take a long time for the algorithm to resolve. The more clusters to fit, the longer the algorithm will take. You should test for cluster counts through at least 10 clusters to get the full picture, but you shouldn't need to test for a number of clusters above about 30.\n",
    "- Once you've selected a final number of clusters to use, re-fit a KMeans instance to perform the clustering operation. Make sure that you also obtain the cluster assignments for the general demographics data, since you'll be using them in the final Step 3.3."
   ]
  },
  {
   "cell_type": "code",
   "execution_count": 25,
   "metadata": {},
   "outputs": [
    {
     "name": "stdout",
     "output_type": "stream",
     "text": [
      "Evaluate 2 centers...\n",
      "Score: 109627367.381\n",
      "Evaluate 3 centers...\n",
      "Score: 105317693.23\n",
      "Evaluate 4 centers...\n",
      "Score: 102710893.774\n",
      "Evaluate 5 centers...\n",
      "Score: 101046466.16\n",
      "Evaluate 6 centers...\n",
      "Score: 99629121.3491\n",
      "Evaluate 7 centers...\n",
      "Score: 98392086.1184\n",
      "Evaluate 8 centers...\n",
      "Score: 97397916.2508\n",
      "Evaluate 9 centers...\n",
      "Score: 96649800.8422\n",
      "Evaluate 10 centers...\n",
      "Score: 96044537.5988\n",
      "Evaluate 11 centers...\n",
      "Score: 95324111.4186\n",
      "Evaluate 12 centers...\n",
      "Score: 94761651.638\n",
      "Evaluate 13 centers...\n",
      "Score: 94146640.6056\n",
      "Evaluate 14 centers...\n",
      "Score: 93414761.0561\n",
      "Evaluate 15 centers...\n",
      "Score: 93001505.5084\n",
      "Evaluate 16 centers...\n",
      "Score: 92303586.689\n",
      "Evaluate 17 centers...\n",
      "Score: 91787361.5959\n",
      "Evaluate 18 centers...\n",
      "Score: 91325500.5998\n",
      "Evaluate 19 centers...\n",
      "Score: 90914770.333\n",
      "Evaluate 20 centers...\n",
      "Score: 90306095.7351\n",
      "Evaluate 21 centers...\n",
      "Score: 89823881.6581\n",
      "Evaluate 22 centers...\n",
      "Score: 88857879.5621\n",
      "Evaluate 23 centers...\n",
      "Score: 88582914.4879\n"
     ]
    },
    {
     "data": {
      "text/plain": [
       "' Scores (done over several sessions):\\nEvaluate 2 centers...\\nScore: 96814429.03\\nEvaluate 3 centers...\\nScore: 93045163.244\\nEvaluate 4 centers...\\nScore: 90889456.7035\\nEvaluate 5 centers...\\nScore: 89476987.0507\\nEvaluate 6 centers...\\nScore: 88240623.6232\\nEvaluate 7 centers...\\nScore: 87190116.1546\\nEvaluate 8 centers...\\nScore: 86646119.0998\\nEvaluate 9 centers...\\nScore: 85869567.4589\\nEvaluate 10 centers...\\nScore: 85256498.4472\\nEvaluate 11 centers...\\nScore: 84801165.4335\\nEvaluate 12 centers...\\nScore: 84147109.5092\\nEvaluate 13 centers...\\nScore: 83813714.2711\\nEvaluate 14 centers...\\nScore: 83154476.4093\\nEvaluate 15 centers...\\nScore: 82872341.5115\\nEvaluate 16 centers...\\nScore: 82247990.0064\\nEvaluate 17 centers...\\nScore: 81684766.265\\nEvaluate 18 centers...\\nScore: 81326701.6607\\nEvaluate 19 centers...\\nScore: 80755875.9796\\nEvaluate 20 centers...\\nScore: 80237496.7123\\nEvaluate 21 centers...\\nScore: 79752163.0729\\nEvaluate 22 centers...\\nScore: 79503365.0079\\nEvaluate 23 centers...\\nScore: 89692444.6292\\n'"
      ]
     },
     "execution_count": 25,
     "metadata": {},
     "output_type": "execute_result"
    }
   ],
   "source": [
    "'''\n",
    "Over a number of different cluster counts...\n",
    "run k-means clustering on the data and...\n",
    "compute the average within-cluster distances.\n",
    "'''\n",
    "\n",
    "#Code from Unsepervised learning Lesson 1.10: Your Turn\n",
    "def get_kmeans_score(data, center):\n",
    "    '''\n",
    "    returns the kmeans score regarding SSE for points to centers\n",
    "    INPUT:\n",
    "        data - the dataset you want to fit kmeans to\n",
    "        center - the number of centers you want (the k value)\n",
    "    OUTPUT:\n",
    "        score - the SSE score for the kmeans model fit to the data\n",
    "    '''\n",
    "    #instantiate kmeans\n",
    "    kmeans = KMeans(n_clusters=center)\n",
    "    # Then fit the model to your data using the fit method\n",
    "    model = kmeans.fit(data)\n",
    "    \n",
    "    # Obtain a score related to the model fit\n",
    "    score = np.abs(model.score(data))\n",
    "    \n",
    "    return score\n",
    "\n",
    "scores = {}\n",
    "for i in range(2,24):\n",
    "    print(\"Evaluate \" + str(i) + \" centers...\")\n",
    "    scores[i] = get_kmeans_score(azdias_tran, i)\n",
    "    print(\"Score: \" + str(scores[i]))\n",
    "\n",
    "'''\n",
    "Note to reviewer:\n",
    "I would have liked to run this in one loop, but the reality of network disconnections, computer standby mode,\n",
    "and life's demands have forced me to compute ~3 scores at a time and put the collection together by hand.\n",
    "The scores I pieced together from the various runs are saved below.\n",
    "I obtained scores for k up to 23, and the trends were evident by that time.\n",
    "\n",
    "'''\n",
    "\n",
    "''' Scores (done over several sessions):\n",
    "Evaluate 2 centers...\n",
    "Score: 109627367.381\n",
    "Evaluate 3 centers...\n",
    "Score: 105317693.23\n",
    "Evaluate 4 centers...\n",
    "Score: 102710893.774\n",
    "Evaluate 5 centers...\n",
    "Score: 101046466.16\n",
    "Evaluate 6 centers...\n",
    "Score: 99629121.3491\n",
    "Evaluate 7 centers...\n",
    "Score: 98392086.1184\n",
    "Evaluate 8 centers...\n",
    "Score: 97397916.2508\n",
    "Evaluate 9 centers...\n",
    "Score: 96649800.8422\n",
    "Evaluate 10 centers...\n",
    "Score: 96044537.5988\n",
    "Evaluate 11 centers...\n",
    "Score: 95324111.418\n",
    "Evaluate 12 centers...\n",
    "Score: 94761651.638\n",
    "Evaluate 13 centers...\n",
    "Score: 94146640.6056\n",
    "Evaluate 14 centers...\n",
    "Score: 93414761.0561\n",
    "Evaluate 15 centers...\n",
    "Score: 93001505.5084\n",
    "Evaluate 16 centers...\n",
    "Score: 92303586.689\n",
    "Evaluate 17 centers...\n",
    "Score: 91787361.5959\n",
    "Evaluate 18 centers...\n",
    "Score: 91325500.5998\n",
    "Evaluate 19 centers...\n",
    "Score: 90914770.333\n",
    "Evaluate 20 centers...\n",
    "Score: 90306095.7351\n",
    "Evaluate 21 centers...\n",
    "Score: 89823881.6581\n",
    "Evaluate 22 centers...\n",
    "Score: 88857879.5621\n",
    "Evaluate 23 centers...\n",
    "Score: 88582914.4879\n",
    "'''\n",
    "   "
   ]
  },
  {
   "cell_type": "code",
   "execution_count": 26,
   "metadata": {},
   "outputs": [],
   "source": [
    "scores[2] = 109627367.381\n",
    "scores[3] = 105317693.23\n",
    "scores[4] = 102710893.774\n",
    "scores[5] = 101046466.16\n",
    "scores[6] = 99629121.3491\n",
    "scores[7] = 98392086.1184\n",
    "scores[8] = 97397916.2508\n",
    "scores[9] = 96649800.8422\n",
    "scores[10] = 96044537.5988\n",
    "scores[11] = 95324111.418\n",
    "scores[12] = 94761651.638\n",
    "scores[13] = 94146640.6056\n",
    "scores[14] = 93414761.0561\n",
    "scores[15] = 93001505.5084\n",
    "scores[16] = 92303586.689\n",
    "scores[17] = 91787361.5959\n",
    "scores[18] = 91325500.5998\n",
    "scores[19] = 90914770.333\n",
    "scores[20] = 90306095.7351\n",
    "scores[21] = 89823881.6581\n",
    "scores[22] = 88857879.5621\n",
    "scores[23] = 88582914.4879"
   ]
  },
  {
   "cell_type": "code",
   "execution_count": 27,
   "metadata": {},
   "outputs": [
    {
     "data": {
      "image/png": "[encoded data removed]",
      "text/plain": [
       "<matplotlib.figure.Figure at 0x7fdcfefa3a20>"
      ]
     },
     "metadata": {
      "needs_background": "light"
     },
     "output_type": "display_data"
    }
   ],
   "source": [
    "# Investigate the change in within-cluster distance across number of clusters.\n",
    "\n",
    "lists = sorted(scores.items())\n",
    "x, y = zip(*lists) \n",
    "plt.title('Plot 20: K-means score by cluster count')\n",
    "plt.plot(x, y)\n",
    "plt.show()"
   ]
  },
  {
   "cell_type": "code",
   "execution_count": 28,
   "metadata": {},
   "outputs": [],
   "source": [
    "# Re-fit the k-means model with the selected number of clusters and obtain\n",
    "# cluster predictions for the general population demographics data.\n",
    "kmeans_final = KMeans(n_clusters=12)\n",
    "model_final = kmeans_final.fit(azdias_tran)\n",
    "\n",
    "\n",
    "### Run this to create final clustering model"
   ]
  },
  {
   "cell_type": "code",
   "execution_count": 29,
   "metadata": {},
   "outputs": [],
   "source": [
    "pop_clust = model_final.predict(azdias_tran)"
   ]
  },
  {
   "cell_type": "markdown",
   "metadata": {},
   "source": [
    "### Discussion 3.1: Apply Clustering to General Population\n",
    "Although the 'elbow' of the curve in Plot 20 is not as pronounced as the 'Elbow method' described by in Lesson 1.8, there is a visible decline in the slope of the curve around k=8.  \n",
    "\n",
    "I originally tried to segment the population into eight clusters.  However, the resulting clusters were not able to adequately distinguish the general population data from the customers data.  I interpreted this fact to mean that the eight clusters were not carving off useful chunks of the population.  After increasing the cluster count to 12, the customer data clusters developed distinct characteristics from the population data."
   ]
  },
  {
   "cell_type": "markdown",
   "metadata": {},
   "source": [
    "### Step 3.2: Apply All Steps to the Customer Data\n",
    "\n",
    "Now that you have clusters and cluster centers for the general population, it's time to see how the customer data maps on to those clusters. Take care to not confuse this for re-fitting all of the models to the customer data. Instead, you're going to use the fits from the general population to clean, transform, and cluster the customer data. In the last step of the project, you will interpret how the general population fits apply to the customer data.\n",
    "\n",
    "- Don't forget when loading in the customers data, that it is semicolon (`;`) delimited.\n",
    "- Apply the same feature wrangling, selection, and engineering steps to the customer demographics using the `clean_data()` function you created earlier. (You can assume that the customer demographics data has similar meaning behind missing data patterns as the general demographics data.)\n",
    "- Use the sklearn objects from the general demographics data, and apply their transformations to the customers data. That is, you should not be using a `.fit()` or `.fit_transform()` method to re-fit the old objects, nor should you be creating new sklearn objects! Carry the data through the feature scaling, PCA, and clustering steps, obtaining cluster assignments for all of the data in the customer demographics data."
   ]
  },
  {
   "cell_type": "code",
   "execution_count": 30,
   "metadata": {},
   "outputs": [],
   "source": [
    "# Load in the customer demographics data.\n",
    "customers = pd.read_csv('Udacity_CUSTOMERS_Subset.csv', sep=';') "
   ]
  },
  {
   "cell_type": "code",
   "execution_count": 31,
   "metadata": {
    "scrolled": true
   },
   "outputs": [
    {
     "name": "stderr",
     "output_type": "stream",
     "text": [
      "/opt/conda/lib/python3.6/site-packages/ipykernel_launcher.py:47: SettingWithCopyWarning: \n",
      "A value is trying to be set on a copy of a slice from a DataFrame.\n",
      "Try using .loc[row_indexer,col_indexer] = value instead\n",
      "\n",
      "See the caveats in the documentation: http://pandas.pydata.org/pandas-docs/stable/indexing.html#indexing-view-versus-copy\n"
     ]
    }
   ],
   "source": [
    "# Apply preprocessing, feature transformation, and clustering from the general\n",
    "# demographics onto the customer data, obtaining cluster predictions for the\n",
    "# customer demographics data.\n",
    "\n",
    "#clean\n",
    "customers_clean = clean_data(customers, inplace = False)\n",
    "\n",
    "\n"
   ]
  },
  {
   "cell_type": "code",
   "execution_count": 32,
   "metadata": {
    "scrolled": true
   },
   "outputs": [],
   "source": [
    "#add any columns the one-hot might have missed\n",
    "for i in set(azdias_final2.columns) - set(customers_clean.columns):\n",
    "    customers_clean[i] = 0"
   ]
  },
  {
   "cell_type": "code",
   "execution_count": 33,
   "metadata": {},
   "outputs": [
    {
     "data": {
      "text/plain": [
       "set()"
      ]
     },
     "execution_count": 33,
     "metadata": {},
     "output_type": "execute_result"
    }
   ],
   "source": [
    "set(customers_clean.columns) - set(azdias_final2.columns)"
   ]
  },
  {
   "cell_type": "code",
   "execution_count": 34,
   "metadata": {},
   "outputs": [],
   "source": [
    "#remove nan\n",
    "customers_final = imputer.transform(customers_clean)"
   ]
  },
  {
   "cell_type": "code",
   "execution_count": 35,
   "metadata": {},
   "outputs": [],
   "source": [
    "#scale\n",
    "customers_final = scaler.transform(customers_final)\n"
   ]
  },
  {
   "cell_type": "code",
   "execution_count": 36,
   "metadata": {},
   "outputs": [],
   "source": [
    "#apply PCA transformation\n",
    "customers_trans = pca.transform(customers_final)\n",
    "\n",
    "#predict with clustering\n",
    "customers_clust = model_final.predict(customers_trans)\n"
   ]
  },
  {
   "cell_type": "markdown",
   "metadata": {},
   "source": [
    "### Step 3.3: Compare Customer Data to Demographics Data\n",
    "\n",
    "At this point, you have clustered data based on demographics of the general population of Germany, and seen how the customer data for a mail-order sales company maps onto those demographic clusters. In this final substep, you will compare the two cluster distributions to see where the strongest customer base for the company is.\n",
    "\n",
    "Consider the proportion of persons in each cluster for the general population, and the proportions for the customers. If we think the company's customer base to be universal, then the cluster assignment proportions should be fairly similar between the two. If there are only particular segments of the population that are interested in the company's products, then we should see a mismatch from one to the other. If there is a higher proportion of persons in a cluster for the customer data compared to the general population (e.g. 5% of persons are assigned to a cluster for the general population, but 15% of the customer data is closest to that cluster's centroid) then that suggests the people in that cluster to be a target audience for the company. On the other hand, the proportion of the data in a cluster being larger in the general population than the customer data (e.g. only 2% of customers closest to a population centroid that captures 6% of the data) suggests that group of persons to be outside of the target demographics.\n",
    "\n",
    "Take a look at the following points in this step:\n",
    "\n",
    "- Compute the proportion of data points in each cluster for the general population and the customer data. Visualizations will be useful here: both for the individual dataset proportions, but also to visualize the ratios in cluster representation between groups. Seaborn's [`countplot()`](https://seaborn.pydata.org/generated/seaborn.countplot.html) or [`barplot()`](https://seaborn.pydata.org/generated/seaborn.barplot.html) function could be handy.\n",
    "  - Recall the analysis you performed in step 1.1.3 of the project, where you separated out certain data points from the dataset if they had more than a specified threshold of missing values. If you found that this group was qualitatively different from the main bulk of the data, you should treat this as an additional data cluster in this analysis. Make sure that you account for the number of data points in this subset, for both the general population and customer datasets, when making your computations!\n",
    "- Which cluster or clusters are overrepresented in the customer dataset compared to the general population? Select at least one such cluster and infer what kind of people might be represented by that cluster. Use the principal component interpretations from step 2.3 or look at additional components to help you make this inference. Alternatively, you can use the `.inverse_transform()` method of the PCA and StandardScaler objects to transform centroids back to the original data space and interpret the retrieved values directly.\n",
    "- Perform a similar investigation for the underrepresented clusters. Which cluster or clusters are underrepresented in the customer dataset compared to the general population, and what kinds of people are typified by these clusters?"
   ]
  },
  {
   "cell_type": "code",
   "execution_count": 37,
   "metadata": {},
   "outputs": [
    {
     "name": "stdout",
     "output_type": "stream",
     "text": [
      "Customers\n",
      "-1 : 29.642268277920397\n",
      "0 : 7.36125894851\n",
      "1 : 0.138793229395\n",
      "2 : 4.37042138877\n",
      "3 : 37.4647799136\n",
      "4 : 3.09362803415\n",
      "5 : 6.97827312003\n",
      "6 : 0.102268695344\n",
      "7 : 0.0240018366623\n",
      "8 : 1.50115834951\n",
      "9 : 4.51391062968\n",
      "10 : 0.0897459979546\n",
      "11 : 4.71949157849\n",
      "Population\n",
      "-1 : 16.169277878326476\n",
      "0 : 0.646192134162\n",
      "1 : 8.46939199144\n",
      "2 : 3.94694469722\n",
      "3 : 10.0371288379\n",
      "4 : 14.6034485274\n",
      "5 : 11.770593377\n",
      "6 : 8.61021003769\n",
      "7 : 6.503437419\n",
      "8 : 0.355467386877\n",
      "9 : 11.8467809892\n",
      "10 : 5.76647094267\n",
      "11 : 1.27465578123\n",
      "Difference\n",
      "0 : 6.71506681435\n",
      "1 : -8.33059876204\n",
      "2 : 0.423476691548\n",
      "3 : 27.4276510757\n",
      "4 : -11.5098204932\n",
      "5 : -4.79232025692\n",
      "6 : -8.50794134235\n",
      "7 : -6.47943558234\n",
      "8 : 1.14569096263\n",
      "9 : -7.33287035954\n",
      "10 : -5.67672494472\n",
      "11 : 3.44483579726\n"
     ]
    }
   ],
   "source": [
    "pop_metrics = np.bincount(pop_clust)\n",
    "cust_metrics = np.bincount(customers_clust)\n",
    "\n",
    "pop_clust_counts = {}\n",
    "cust_clust_counts = {}\n",
    "deltas = {}\n",
    "\n",
    "missing_pop = len(azdias) - len(azdias_final)\n",
    "missing_cust = len(customers) - len(customers_clean)\n",
    "\n",
    "pop_clust_counts[-1] = missing_pop * 100 / (len(pop_clust) + missing_pop)\n",
    "cust_clust_counts[-1] = missing_cust * 100 / (len(customers_clust) + missing_cust)\n",
    "\n",
    "for i in range(0, 12):\n",
    "    pop_clust_counts[i] = pop_metrics[i] * 100 / (len(pop_clust) + missing_pop)\n",
    "    cust_clust_counts[i] = cust_metrics[i] * 100 / (len(customers_clust) + missing_cust)\n",
    "    deltas[i] = cust_clust_counts[i] - pop_clust_counts[i]\n",
    "\n",
    "#append the missing or imcomplete data to a cluster[-1]\n",
    "\n",
    "\n",
    "    \n",
    "print(\"Customers\")\n",
    "for i in cust_clust_counts:\n",
    "    print(str(i) + \" : \" + str(cust_clust_counts[i]))\n",
    "print(\"Population\")\n",
    "for i in pop_clust_counts:\n",
    "    print(str(i) + \" : \" + str(pop_clust_counts[i]))    \n",
    "print(\"Difference\")\n",
    "for i in deltas:\n",
    "    print(str(i) + \" : \" + str(deltas[i]))"
   ]
  },
  {
   "cell_type": "code",
   "execution_count": 38,
   "metadata": {},
   "outputs": [
    {
     "data": {
      "image/png": "[encoded data removed]",
      "text/plain": [
       "<matplotlib.figure.Figure at 0x7fdc4b4fe7f0>"
      ]
     },
     "metadata": {
      "needs_background": "light"
     },
     "output_type": "display_data"
    }
   ],
   "source": [
    "results_dict = {'Customers' : cust_clust_counts, 'Population' : pop_clust_counts}\n",
    "pd.DataFrame(results_dict).plot(kind='bar')\n",
    "plt.title('Plot 20: Customers and Population, % in cluster')\n",
    "plt.show()"
   ]
  },
  {
   "cell_type": "code",
   "execution_count": null,
   "metadata": {},
   "outputs": [],
   "source": [
    "# What kinds of people are part of a cluster that is overrepresented in the\n",
    "# customer data compared to the general population?"
   ]
  },
  {
   "cell_type": "markdown",
   "metadata": {},
   "source": [
    "This analysis will consider clusters which are noticeably over- or under- represented in the customer population:\n",
    "\n",
    "Over-represented:\n",
    "Clusters 3\n",
    "\n",
    "Under-represented:\n",
    "Clusters 6, 7"
   ]
  },
  {
   "cell_type": "code",
   "execution_count": 39,
   "metadata": {},
   "outputs": [
    {
     "name": "stdout",
     "output_type": "stream",
     "text": [
      "--- Principal Components in Cluster 3\n",
      "   Component 0 : -4.21947397725\n",
      "   Component 11 : -0.67241864244\n",
      "   Component 12 : -0.60970011629\n",
      "   Component 13 : -0.46454925644\n",
      "   Component 5 : -0.452308408145\n",
      "   Component 3 : 2.64933500781\n",
      "   Component 1 : 0.87816521323\n",
      "   Component 17 : 0.725934793909\n",
      "   Component 2 : 0.718283944746\n",
      "   Component 92 : 0.206530750551\n"
     ]
    }
   ],
   "source": [
    "#Principal components by cluster: Overrepresented\n",
    "centers = {}\n",
    "smallest_pc = {}\n",
    "largest_pc = {}\n",
    "pcs = {}\n",
    "for i in [3]:\n",
    "    centers[i] = {k: v for k, v in enumerate(model_final.cluster_centers_[i])}\n",
    "    smallest_pc[i] = sorted(centers[i].items(), key=lambda kv: kv[1])[:5]\n",
    "    largest_pc[i] = sorted(centers[i].items(), key=lambda kv: kv[1], reverse=True)[:5]    \n",
    "    print(\"--- Principal Components in Cluster \" + str(i))\n",
    "    for k,v in smallest_pc[i]:\n",
    "        print(\"   Component \" + str(k) + \" : \" + str(v))\n",
    "    for k,v in largest_pc[i]:\n",
    "        print(\"   Component \" + str(k) + \" : \" + str(v))\n"
   ]
  },
  {
   "cell_type": "markdown",
   "metadata": {},
   "source": [
    "This cluster is positively correlated to principal component 3, and negatively correlated to 0.  "
   ]
  },
  {
   "cell_type": "code",
   "execution_count": 41,
   "metadata": {},
   "outputs": [
    {
     "name": "stdout",
     "output_type": "stream",
     "text": [
      "--- Principal Components in Cluster 6\n",
      "   Component 2 : -2.61202158791\n",
      "   Component 1 : -1.74096744602\n",
      "   Component 16 : -0.51523482385\n",
      "   Component 11 : -0.469870623601\n",
      "   Component 20 : -0.250477907\n",
      "   Component 0 : 5.18968921939\n",
      "   Component 3 : 0.670885542993\n",
      "   Component 9 : 0.520710508888\n",
      "   Component 7 : 0.341784951462\n",
      "   Component 21 : 0.312282303367\n",
      "--- Principal Components in Cluster 7\n",
      "   Component 1 : -2.37403454193\n",
      "   Component 8 : -0.607481221\n",
      "   Component 9 : -0.395821058943\n",
      "   Component 25 : -0.35969964981\n",
      "   Component 3 : -0.326677236751\n",
      "   Component 0 : 5.13263361242\n",
      "   Component 2 : 2.68584879467\n",
      "   Component 15 : 0.455923510193\n",
      "   Component 7 : 0.450887312636\n",
      "   Component 16 : 0.345301790439\n"
     ]
    }
   ],
   "source": [
    "# What kinds of people are part of a cluster that is underrepresented in the\n",
    "# customer data compared to the general population?\n",
    "\n",
    "#Principal components by cluster: Underrepresented\n",
    "centers2 = {}\n",
    "smallest_pc2 = {}\n",
    "largest_pc2 = {}\n",
    "pcs2 = {}\n",
    "for i in [6, 7]:\n",
    "    centers2[i] = {k: v for k, v in enumerate(model_final.cluster_centers_[i])}\n",
    "    smallest_pc2[i] = sorted(centers2[i].items(), key=lambda kv: kv[1])[:5]\n",
    "    largest_pc2[i] = sorted(centers2[i].items(), key=lambda kv: kv[1], reverse=True)[:5]    \n",
    "    print(\"--- Principal Components in Cluster \" + str(i))\n",
    "    for k,v in smallest_pc2[i]:\n",
    "        print(\"   Component \" + str(k) + \" : \" + str(v))\n",
    "    for k,v in largest_pc2[i]:\n",
    "        print(\"   Component \" + str(k) + \" : \" + str(v))\n"
   ]
  },
  {
   "cell_type": "markdown",
   "metadata": {},
   "source": [
    "These clusters are positively correalted to component 0 and negatively to 1.  2 is contradictory.\n",
    "\n",
    "Examining the most strongly correlated principal components:\n",
    "\n",
    "Components positively correlated to overrepresented clusters: 3\n",
    "Components negatively correlated to overrepresented clusters: 0\n",
    "\n",
    "Components positively correlated to underrepresented clusters: 0\n",
    "Components negatively correlated to underrepresented clusters: 1\n",
    "\n",
    "Components indicative of a customer: 1, 3\n",
    "Components indicative of not a customer: 0\n"
   ]
  },
  {
   "cell_type": "markdown",
   "metadata": {},
   "source": [
    "### Attributes Indicative of a customer\n",
    "Components 1, 3"
   ]
  },
  {
   "cell_type": "code",
   "execution_count": 42,
   "metadata": {},
   "outputs": [
    {
     "data": {
      "text/html": [
       "<div>\n",
       "<style>\n",
       "    .dataframe thead tr:only-child th {\n",
       "        text-align: right;\n",
       "    }\n",
       "\n",
       "    .dataframe thead th {\n",
       "        text-align: left;\n",
       "    }\n",
       "\n",
       "    .dataframe tbody tr th {\n",
       "        vertical-align: top;\n",
       "    }\n",
       "</style>\n",
       "<table border=\"1\" class=\"dataframe\">\n",
       "  <thead>\n",
       "    <tr style=\"text-align: right;\">\n",
       "      <th></th>\n",
       "      <th>0</th>\n",
       "    </tr>\n",
       "  </thead>\n",
       "  <tbody>\n",
       "    <tr>\n",
       "      <th>PRAEGENDE_JUGENDJAHRE_decade</th>\n",
       "      <td>-0.229799</td>\n",
       "    </tr>\n",
       "    <tr>\n",
       "      <th>ALTERSKATEGORIE_GROB</th>\n",
       "      <td>0.225836</td>\n",
       "    </tr>\n",
       "    <tr>\n",
       "      <th>FINANZ_SPARER</th>\n",
       "      <td>-0.217701</td>\n",
       "    </tr>\n",
       "    <tr>\n",
       "      <th>SEMIO_REL</th>\n",
       "      <td>-0.211450</td>\n",
       "    </tr>\n",
       "    <tr>\n",
       "      <th>FINANZ_UNAUFFAELLIGER</th>\n",
       "      <td>-0.210994</td>\n",
       "    </tr>\n",
       "    <tr>\n",
       "      <th>FINANZ_VORSORGER</th>\n",
       "      <td>0.210284</td>\n",
       "    </tr>\n",
       "    <tr>\n",
       "      <th>SEMIO_TRADV</th>\n",
       "      <td>-0.203926</td>\n",
       "    </tr>\n",
       "    <tr>\n",
       "      <th>SEMIO_PFLICHT</th>\n",
       "      <td>-0.200462</td>\n",
       "    </tr>\n",
       "    <tr>\n",
       "      <th>FINANZ_ANLEGER</th>\n",
       "      <td>-0.199992</td>\n",
       "    </tr>\n",
       "    <tr>\n",
       "      <th>ZABEOTYP_3</th>\n",
       "      <td>0.199909</td>\n",
       "    </tr>\n",
       "  </tbody>\n",
       "</table>\n",
       "</div>"
      ],
      "text/plain": [
       "                                     0\n",
       "PRAEGENDE_JUGENDJAHRE_decade -0.229799\n",
       "ALTERSKATEGORIE_GROB          0.225836\n",
       "FINANZ_SPARER                -0.217701\n",
       "SEMIO_REL                    -0.211450\n",
       "FINANZ_UNAUFFAELLIGER        -0.210994\n",
       "FINANZ_VORSORGER              0.210284\n",
       "SEMIO_TRADV                  -0.203926\n",
       "SEMIO_PFLICHT                -0.200462\n",
       "FINANZ_ANLEGER               -0.199992\n",
       "ZABEOTYP_3                    0.199909"
      ]
     },
     "execution_count": 42,
     "metadata": {},
     "output_type": "execute_result"
    }
   ],
   "source": [
    "component_weights(azdias_pca, 1)"
   ]
  },
  {
   "cell_type": "code",
   "execution_count": 43,
   "metadata": {},
   "outputs": [
    {
     "data": {
      "text/html": [
       "<div>\n",
       "<style>\n",
       "    .dataframe thead tr:only-child th {\n",
       "        text-align: right;\n",
       "    }\n",
       "\n",
       "    .dataframe thead th {\n",
       "        text-align: left;\n",
       "    }\n",
       "\n",
       "    .dataframe tbody tr th {\n",
       "        vertical-align: top;\n",
       "    }\n",
       "</style>\n",
       "<table border=\"1\" class=\"dataframe\">\n",
       "  <thead>\n",
       "    <tr style=\"text-align: right;\">\n",
       "      <th></th>\n",
       "      <th>0</th>\n",
       "    </tr>\n",
       "  </thead>\n",
       "  <tbody>\n",
       "    <tr>\n",
       "      <th>PRAEGENDE_JUGENDJAHRE_mov</th>\n",
       "      <td>0.325358</td>\n",
       "    </tr>\n",
       "    <tr>\n",
       "      <th>GREEN_AVANTGARDE</th>\n",
       "      <td>0.325241</td>\n",
       "    </tr>\n",
       "    <tr>\n",
       "      <th>LP_STATUS_FEIN_10.0</th>\n",
       "      <td>0.236743</td>\n",
       "    </tr>\n",
       "    <tr>\n",
       "      <th>EWDICHTE</th>\n",
       "      <td>0.225407</td>\n",
       "    </tr>\n",
       "    <tr>\n",
       "      <th>ORTSGR_KLS9</th>\n",
       "      <td>0.217379</td>\n",
       "    </tr>\n",
       "    <tr>\n",
       "      <th>KKK</th>\n",
       "      <td>-0.216798</td>\n",
       "    </tr>\n",
       "    <tr>\n",
       "      <th>HH_EINKOMMEN_SCORE</th>\n",
       "      <td>-0.200759</td>\n",
       "    </tr>\n",
       "    <tr>\n",
       "      <th>BALLRAUM</th>\n",
       "      <td>-0.195385</td>\n",
       "    </tr>\n",
       "    <tr>\n",
       "      <th>INNENSTADT</th>\n",
       "      <td>-0.185016</td>\n",
       "    </tr>\n",
       "    <tr>\n",
       "      <th>LP_STATUS_FEIN_4.0</th>\n",
       "      <td>-0.160366</td>\n",
       "    </tr>\n",
       "  </tbody>\n",
       "</table>\n",
       "</div>"
      ],
      "text/plain": [
       "                                  0\n",
       "PRAEGENDE_JUGENDJAHRE_mov  0.325358\n",
       "GREEN_AVANTGARDE           0.325241\n",
       "LP_STATUS_FEIN_10.0        0.236743\n",
       "EWDICHTE                   0.225407\n",
       "ORTSGR_KLS9                0.217379\n",
       "KKK                       -0.216798\n",
       "HH_EINKOMMEN_SCORE        -0.200759\n",
       "BALLRAUM                  -0.195385\n",
       "INNENSTADT                -0.185016\n",
       "LP_STATUS_FEIN_4.0        -0.160366"
      ]
     },
     "execution_count": 43,
     "metadata": {},
     "output_type": "execute_result"
    }
   ],
   "source": [
    "component_weights(azdias_pca, 3)\n"
   ]
  },
  {
   "cell_type": "markdown",
   "metadata": {},
   "source": [
    "### Attributes indicating not a customer"
   ]
  },
  {
   "cell_type": "code",
   "execution_count": 44,
   "metadata": {},
   "outputs": [
    {
     "data": {
      "text/html": [
       "<div>\n",
       "<style>\n",
       "    .dataframe thead tr:only-child th {\n",
       "        text-align: right;\n",
       "    }\n",
       "\n",
       "    .dataframe thead th {\n",
       "        text-align: left;\n",
       "    }\n",
       "\n",
       "    .dataframe tbody tr th {\n",
       "        vertical-align: top;\n",
       "    }\n",
       "</style>\n",
       "<table border=\"1\" class=\"dataframe\">\n",
       "  <thead>\n",
       "    <tr style=\"text-align: right;\">\n",
       "      <th></th>\n",
       "      <th>0</th>\n",
       "    </tr>\n",
       "  </thead>\n",
       "  <tbody>\n",
       "    <tr>\n",
       "      <th>MOBI_REGIO</th>\n",
       "      <td>-0.209920</td>\n",
       "    </tr>\n",
       "    <tr>\n",
       "      <th>FINANZ_MINIMALIST</th>\n",
       "      <td>-0.200107</td>\n",
       "    </tr>\n",
       "    <tr>\n",
       "      <th>KBA05_ANTG1</th>\n",
       "      <td>-0.196197</td>\n",
       "    </tr>\n",
       "    <tr>\n",
       "      <th>PLZ8_ANTG1</th>\n",
       "      <td>-0.192882</td>\n",
       "    </tr>\n",
       "    <tr>\n",
       "      <th>PLZ8_ANTG3</th>\n",
       "      <td>0.191278</td>\n",
       "    </tr>\n",
       "    <tr>\n",
       "      <th>PLZ8_ANTG4</th>\n",
       "      <td>0.187047</td>\n",
       "    </tr>\n",
       "    <tr>\n",
       "      <th>KBA05_GBZ</th>\n",
       "      <td>-0.186443</td>\n",
       "    </tr>\n",
       "    <tr>\n",
       "      <th>HH_EINKOMMEN_SCORE</th>\n",
       "      <td>0.185303</td>\n",
       "    </tr>\n",
       "    <tr>\n",
       "      <th>CAMEO_INTL_2015_family</th>\n",
       "      <td>0.184495</td>\n",
       "    </tr>\n",
       "    <tr>\n",
       "      <th>PLZ8_BAUMAX</th>\n",
       "      <td>0.184064</td>\n",
       "    </tr>\n",
       "  </tbody>\n",
       "</table>\n",
       "</div>"
      ],
      "text/plain": [
       "                               0\n",
       "MOBI_REGIO             -0.209920\n",
       "FINANZ_MINIMALIST      -0.200107\n",
       "KBA05_ANTG1            -0.196197\n",
       "PLZ8_ANTG1             -0.192882\n",
       "PLZ8_ANTG3              0.191278\n",
       "PLZ8_ANTG4              0.187047\n",
       "KBA05_GBZ              -0.186443\n",
       "HH_EINKOMMEN_SCORE      0.185303\n",
       "CAMEO_INTL_2015_family  0.184495\n",
       "PLZ8_BAUMAX             0.184064"
      ]
     },
     "execution_count": 44,
     "metadata": {},
     "output_type": "execute_result"
    }
   ],
   "source": [
    "component_weights(azdias_pca, 0)"
   ]
  },
  {
   "cell_type": "markdown",
   "metadata": {},
   "source": [
    "### Discussion 3.3: Compare Customer Data to Demographics Data\n",
    "\n",
    "Examining the aggregate of the values in the above components (and considering the negative and positive correlation with clusters, which are negatively or positively correlated with number of customers), the following attributes are indicative of a customer:\n",
    " \n",
    "- PRAEGENDE_JUGENDJAHRE_mov - avant garde youth social movement\n",
    "- GREEN_AVANTGARDE - associated with environmental movement \n",
    "- LP_STATUS_FEIN_10.0 - social status: top earners\n",
    "- ALTERSKATEGORIE_GROB - estimated age, older\n",
    "- EWDICHTE - high density of households\n",
    "- ORTSGR_KLS9 - large community\n",
    "- FINANZ_VORSORGER - low afinity for \"be prepared\" financial type\n",
    "- MOBI_REGIO - low movement\n",
    "- FINANZ_MINIMALIST - low afinity for minimalist financial type\n",
    "- ZABEOTYP_3 - energy consumpteion - fiar supplied\n",
    "\n",
    "\n",
    "\n",
    "The following attributes are negatively correlated with the customer base:\n",
    "\n",
    "- PRAEGENDE_JUGENDJAHRE_decade - younger youth movement\n",
    "- FINANZ_SPARER - low affinity for saver financial type\n",
    "- KKK - low purchasing power in region\n",
    "- SEMIO_REL - low afinity for religious personality type\n",
    "- FINANZ_UNAUFFAELLIGER - low afinity for inconspicuous finance type\n",
    "- SEMIO_TRADV - low afinity for traditional values\n",
    "- HH_EINKOMMEN_SCORE - low household income\n",
    "- SEMIO_PFLICHT - low afinity for dutiful personality type\n",
    "- FINANZ_ANLEGER - low afinity for investor finance type\n",
    "- BALLRAUM - far from urban center\n",
    "\n",
    "\n",
    "The customer base appears to have the follwing characteristics:\n",
    "- Urban\n",
    "- Wealthy\n",
    "- Older\n",
    "- Environmentally conscious\n",
    "- Financially savers and investors\n",
    "\n"
   ]
  },
  {
   "cell_type": "markdown",
   "metadata": {},
   "source": [
    "> Congratulations on making it this far in the project! Before you finish, make sure to check through the entire notebook from top to bottom to make sure that your analysis follows a logical flow and all of your findings are documented in **Discussion** cells. Once you've checked over all of your work, you should export the notebook as an HTML document to submit for evaluation. You can do this from the menu, navigating to **File -> Download as -> HTML (.html)**. You will submit both that document and this notebook for your project submission."
   ]
  },
  {
   "cell_type": "code",
   "execution_count": null,
   "metadata": {},
   "outputs": [],
   "source": []
  }
 ],
 "metadata": {
  "kernelspec": {
   "display_name": "Python 3",
   "language": "python",
   "name": "python3"
  },
  "language_info": {
   "codemirror_mode": {
    "name": "ipython",
    "version": 3
   },
   "file_extension": ".py",
   "mimetype": "text/x-python",
   "name": "python",
   "nbconvert_exporter": "python",
   "pygments_lexer": "ipython3",
   "version": "3.6.3"
  }
 },
 "nbformat": 4,
 "nbformat_minor": 2
}
